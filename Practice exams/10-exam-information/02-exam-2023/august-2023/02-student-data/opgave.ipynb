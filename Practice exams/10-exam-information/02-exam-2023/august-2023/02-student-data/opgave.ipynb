{
 "cells": [
  {
   "attachments": {},
   "cell_type": "markdown",
   "metadata": {},
   "source": [
    "Het bestand \"studentInfo.csv\" bevat informatie over de in- en uitschrijfdatum van studenten. Wanneer een student nog niet uitgeschreven is, dan is de waarde van uitschrijfdatum None. De datums zijn in volgend formaat dd/mm/jjjj."
   ]
  },
  {
   "attachments": {},
   "cell_type": "markdown",
   "metadata": {},
   "source": [
    "Lees het bestand in een panda dataframe."
   ]
  },
  {
   "cell_type": "code",
   "execution_count": 191,
   "metadata": {},
   "outputs": [],
   "source": [
    "import pandas as pd\n",
    "data = pd.read_csv(\"studentinfo.csv\", delimiter=\";\")"
   ]
  },
  {
   "attachments": {},
   "cell_type": "markdown",
   "metadata": {},
   "source": [
    "Toon de eerste rijen om na te gaan of dit goed gelukt is."
   ]
  },
  {
   "cell_type": "code",
   "execution_count": 192,
   "metadata": {},
   "outputs": [
    {
     "data": {
      "text/html": [
       "<div>\n",
       "<style scoped>\n",
       "    .dataframe tbody tr th:only-of-type {\n",
       "        vertical-align: middle;\n",
       "    }\n",
       "\n",
       "    .dataframe tbody tr th {\n",
       "        vertical-align: top;\n",
       "    }\n",
       "\n",
       "    .dataframe thead th {\n",
       "        text-align: right;\n",
       "    }\n",
       "</style>\n",
       "<table border=\"1\" class=\"dataframe\">\n",
       "  <thead>\n",
       "    <tr style=\"text-align: right;\">\n",
       "      <th></th>\n",
       "      <th>studentnummer</th>\n",
       "      <th>inschrijfdatum</th>\n",
       "      <th>uitschrijfdatum</th>\n",
       "    </tr>\n",
       "  </thead>\n",
       "  <tbody>\n",
       "    <tr>\n",
       "      <th>0</th>\n",
       "      <td>r012345</td>\n",
       "      <td>11/09/2023</td>\n",
       "      <td>NaN</td>\n",
       "    </tr>\n",
       "    <tr>\n",
       "      <th>1</th>\n",
       "      <td>r124589</td>\n",
       "      <td>10/05/2023</td>\n",
       "      <td>01/12/2022</td>\n",
       "    </tr>\n",
       "    <tr>\n",
       "      <th>2</th>\n",
       "      <td>r457899</td>\n",
       "      <td>10/10/2023</td>\n",
       "      <td>24/31/2024</td>\n",
       "    </tr>\n",
       "    <tr>\n",
       "      <th>3</th>\n",
       "      <td>r012345</td>\n",
       "      <td>11/09/2023</td>\n",
       "      <td>22/12/2023</td>\n",
       "    </tr>\n",
       "    <tr>\n",
       "      <th>4</th>\n",
       "      <td>r024589</td>\n",
       "      <td>10/18/2023</td>\n",
       "      <td>100/12/2023</td>\n",
       "    </tr>\n",
       "  </tbody>\n",
       "</table>\n",
       "</div>"
      ],
      "text/plain": [
       "  studentnummer inschrijfdatum uitschrijfdatum\n",
       "0       r012345     11/09/2023             NaN\n",
       "1       r124589     10/05/2023      01/12/2022\n",
       "2       r457899     10/10/2023      24/31/2024\n",
       "3       r012345     11/09/2023      22/12/2023\n",
       "4       r024589     10/18/2023     100/12/2023"
      ]
     },
     "execution_count": 192,
     "metadata": {},
     "output_type": "execute_result"
    }
   ],
   "source": [
    "data.head()"
   ]
  },
  {
   "attachments": {},
   "cell_type": "markdown",
   "metadata": {},
   "source": [
    "Verwijder alle rijen met in de kolom \"uitschrijfdatum\" een niet geldige datum (ook None is uiteraard een niet geldige datum). \n",
    "Toon opnieuw de eerste rijen om na te gaan of dit goed gelukt is"
   ]
  },
  {
   "cell_type": "code",
   "execution_count": 193,
   "metadata": {},
   "outputs": [
    {
     "data": {
      "text/html": [
       "<div>\n",
       "<style scoped>\n",
       "    .dataframe tbody tr th:only-of-type {\n",
       "        vertical-align: middle;\n",
       "    }\n",
       "\n",
       "    .dataframe tbody tr th {\n",
       "        vertical-align: top;\n",
       "    }\n",
       "\n",
       "    .dataframe thead th {\n",
       "        text-align: right;\n",
       "    }\n",
       "</style>\n",
       "<table border=\"1\" class=\"dataframe\">\n",
       "  <thead>\n",
       "    <tr style=\"text-align: right;\">\n",
       "      <th></th>\n",
       "      <th>studentnummer</th>\n",
       "      <th>inschrijfdatum</th>\n",
       "      <th>uitschrijfdatum</th>\n",
       "    </tr>\n",
       "  </thead>\n",
       "  <tbody>\n",
       "    <tr>\n",
       "      <th>1</th>\n",
       "      <td>r124589</td>\n",
       "      <td>10/05/2023</td>\n",
       "      <td>01/12/2022</td>\n",
       "    </tr>\n",
       "    <tr>\n",
       "      <th>3</th>\n",
       "      <td>r012345</td>\n",
       "      <td>11/09/2023</td>\n",
       "      <td>22/12/2023</td>\n",
       "    </tr>\n",
       "    <tr>\n",
       "      <th>6</th>\n",
       "      <td>r112345</td>\n",
       "      <td>21/09/2023</td>\n",
       "      <td>01/01/2024</td>\n",
       "    </tr>\n",
       "    <tr>\n",
       "      <th>7</th>\n",
       "      <td>r124589</td>\n",
       "      <td>10/08/2023</td>\n",
       "      <td>01/12/2023</td>\n",
       "    </tr>\n",
       "    <tr>\n",
       "      <th>8</th>\n",
       "      <td>r457899</td>\n",
       "      <td>10/10/2023</td>\n",
       "      <td>24/01/2024</td>\n",
       "    </tr>\n",
       "  </tbody>\n",
       "</table>\n",
       "</div>"
      ],
      "text/plain": [
       "  studentnummer inschrijfdatum uitschrijfdatum\n",
       "1       r124589     10/05/2023      01/12/2022\n",
       "3       r012345     11/09/2023      22/12/2023\n",
       "6       r112345     21/09/2023      01/01/2024\n",
       "7       r124589     10/08/2023      01/12/2023\n",
       "8       r457899     10/10/2023      24/01/2024"
      ]
     },
     "execution_count": 193,
     "metadata": {},
     "output_type": "execute_result"
    }
   ],
   "source": [
    "import re\n",
    "\n",
    "is_valid_date = r\"(0[1-9]|[1-2][0-9]|3[0-1])/(0[1-9]|1[0-2])/(\\d{4})\"\n",
    "\n",
    "rows_to_drop = []\n",
    "for index, date in enumerate(data[\"uitschrijfdatum\"]):\n",
    "    if date == None or not re.fullmatch(is_valid_date, str(date)):\n",
    "        rows_to_drop.append(index)\n",
    "        \n",
    "data = data.drop(rows_to_drop)\n",
    "data.head()"
   ]
  },
  {
   "attachments": {},
   "cell_type": "markdown",
   "metadata": {},
   "source": [
    "Verwijder alle rijen  met een niet geldige datum in de kolom \"inschrijfdatum\" ."
   ]
  },
  {
   "cell_type": "code",
   "execution_count": 194,
   "metadata": {},
   "outputs": [
    {
     "data": {
      "text/html": [
       "<div>\n",
       "<style scoped>\n",
       "    .dataframe tbody tr th:only-of-type {\n",
       "        vertical-align: middle;\n",
       "    }\n",
       "\n",
       "    .dataframe tbody tr th {\n",
       "        vertical-align: top;\n",
       "    }\n",
       "\n",
       "    .dataframe thead th {\n",
       "        text-align: right;\n",
       "    }\n",
       "</style>\n",
       "<table border=\"1\" class=\"dataframe\">\n",
       "  <thead>\n",
       "    <tr style=\"text-align: right;\">\n",
       "      <th></th>\n",
       "      <th>studentnummer</th>\n",
       "      <th>inschrijfdatum</th>\n",
       "      <th>uitschrijfdatum</th>\n",
       "    </tr>\n",
       "  </thead>\n",
       "  <tbody>\n",
       "    <tr>\n",
       "      <th>1</th>\n",
       "      <td>r124589</td>\n",
       "      <td>10/05/2023</td>\n",
       "      <td>01/12/2022</td>\n",
       "    </tr>\n",
       "    <tr>\n",
       "      <th>3</th>\n",
       "      <td>r012345</td>\n",
       "      <td>11/09/2023</td>\n",
       "      <td>22/12/2023</td>\n",
       "    </tr>\n",
       "    <tr>\n",
       "      <th>6</th>\n",
       "      <td>r112345</td>\n",
       "      <td>21/09/2023</td>\n",
       "      <td>01/01/2024</td>\n",
       "    </tr>\n",
       "    <tr>\n",
       "      <th>7</th>\n",
       "      <td>r124589</td>\n",
       "      <td>10/08/2023</td>\n",
       "      <td>01/12/2023</td>\n",
       "    </tr>\n",
       "    <tr>\n",
       "      <th>8</th>\n",
       "      <td>r457899</td>\n",
       "      <td>10/10/2023</td>\n",
       "      <td>24/01/2024</td>\n",
       "    </tr>\n",
       "  </tbody>\n",
       "</table>\n",
       "</div>"
      ],
      "text/plain": [
       "  studentnummer inschrijfdatum uitschrijfdatum\n",
       "1       r124589     10/05/2023      01/12/2022\n",
       "3       r012345     11/09/2023      22/12/2023\n",
       "6       r112345     21/09/2023      01/01/2024\n",
       "7       r124589     10/08/2023      01/12/2023\n",
       "8       r457899     10/10/2023      24/01/2024"
      ]
     },
     "execution_count": 194,
     "metadata": {},
     "output_type": "execute_result"
    }
   ],
   "source": [
    "import re\n",
    "\n",
    "is_valid_date = r\"(0[1-9]|[1-2][0-9]|3[0-1])/(0[1-9]|1[0-2])/(\\d{4})\"\n",
    "\n",
    "rows_to_drop = []\n",
    "for index, date in enumerate(data[\"inschrijfdatum\"]):\n",
    "    if not re.fullmatch(is_valid_date, str(date)):\n",
    "        rows_to_drop.append(index)\n",
    "        \n",
    "data = data.drop(rows_to_drop)\n",
    "data.head()"
   ]
  },
  {
   "attachments": {},
   "cell_type": "markdown",
   "metadata": {},
   "source": [
    "Maak een nieuwe kolom \"aantal dagen\" dat het aantal dagen tussen in- en uitschrijfdatum bevat."
   ]
  },
  {
   "cell_type": "code",
   "execution_count": 195,
   "metadata": {},
   "outputs": [
    {
     "data": {
      "text/html": [
       "<div>\n",
       "<style scoped>\n",
       "    .dataframe tbody tr th:only-of-type {\n",
       "        vertical-align: middle;\n",
       "    }\n",
       "\n",
       "    .dataframe tbody tr th {\n",
       "        vertical-align: top;\n",
       "    }\n",
       "\n",
       "    .dataframe thead th {\n",
       "        text-align: right;\n",
       "    }\n",
       "</style>\n",
       "<table border=\"1\" class=\"dataframe\">\n",
       "  <thead>\n",
       "    <tr style=\"text-align: right;\">\n",
       "      <th></th>\n",
       "      <th>studentnummer</th>\n",
       "      <th>inschrijfdatum</th>\n",
       "      <th>uitschrijfdatum</th>\n",
       "      <th>aantal dagen</th>\n",
       "    </tr>\n",
       "  </thead>\n",
       "  <tbody>\n",
       "    <tr>\n",
       "      <th>1</th>\n",
       "      <td>r124589</td>\n",
       "      <td>10/05/2023</td>\n",
       "      <td>01/12/2022</td>\n",
       "      <td>-160</td>\n",
       "    </tr>\n",
       "    <tr>\n",
       "      <th>3</th>\n",
       "      <td>r012345</td>\n",
       "      <td>11/09/2023</td>\n",
       "      <td>22/12/2023</td>\n",
       "      <td>102</td>\n",
       "    </tr>\n",
       "    <tr>\n",
       "      <th>6</th>\n",
       "      <td>r112345</td>\n",
       "      <td>21/09/2023</td>\n",
       "      <td>01/01/2024</td>\n",
       "      <td>102</td>\n",
       "    </tr>\n",
       "    <tr>\n",
       "      <th>7</th>\n",
       "      <td>r124589</td>\n",
       "      <td>10/08/2023</td>\n",
       "      <td>01/12/2023</td>\n",
       "      <td>113</td>\n",
       "    </tr>\n",
       "    <tr>\n",
       "      <th>8</th>\n",
       "      <td>r457899</td>\n",
       "      <td>10/10/2023</td>\n",
       "      <td>24/01/2024</td>\n",
       "      <td>106</td>\n",
       "    </tr>\n",
       "  </tbody>\n",
       "</table>\n",
       "</div>"
      ],
      "text/plain": [
       "  studentnummer inschrijfdatum uitschrijfdatum  aantal dagen\n",
       "1       r124589     10/05/2023      01/12/2022          -160\n",
       "3       r012345     11/09/2023      22/12/2023           102\n",
       "6       r112345     21/09/2023      01/01/2024           102\n",
       "7       r124589     10/08/2023      01/12/2023           113\n",
       "8       r457899     10/10/2023      24/01/2024           106"
      ]
     },
     "execution_count": 195,
     "metadata": {},
     "output_type": "execute_result"
    }
   ],
   "source": [
    "data[\"aantal dagen\"] = (pd.to_datetime(data[\"uitschrijfdatum\"], format=\"%d/%m/%Y\") - pd.to_datetime(data[\"inschrijfdatum\"], format=\"%d/%m/%Y\")).dt.days\n",
    "data.head()"
   ]
  },
  {
   "attachments": {},
   "cell_type": "markdown",
   "metadata": {},
   "source": [
    "Verwijder alle rijen waarvoor de kolom \"aantal dagen\" een negatieve waarde heeft."
   ]
  },
  {
   "cell_type": "code",
   "execution_count": 196,
   "metadata": {},
   "outputs": [
    {
     "data": {
      "text/html": [
       "<div>\n",
       "<style scoped>\n",
       "    .dataframe tbody tr th:only-of-type {\n",
       "        vertical-align: middle;\n",
       "    }\n",
       "\n",
       "    .dataframe tbody tr th {\n",
       "        vertical-align: top;\n",
       "    }\n",
       "\n",
       "    .dataframe thead th {\n",
       "        text-align: right;\n",
       "    }\n",
       "</style>\n",
       "<table border=\"1\" class=\"dataframe\">\n",
       "  <thead>\n",
       "    <tr style=\"text-align: right;\">\n",
       "      <th></th>\n",
       "      <th>studentnummer</th>\n",
       "      <th>inschrijfdatum</th>\n",
       "      <th>uitschrijfdatum</th>\n",
       "      <th>aantal dagen</th>\n",
       "    </tr>\n",
       "  </thead>\n",
       "  <tbody>\n",
       "    <tr>\n",
       "      <th>3</th>\n",
       "      <td>r012345</td>\n",
       "      <td>11/09/2023</td>\n",
       "      <td>22/12/2023</td>\n",
       "      <td>102</td>\n",
       "    </tr>\n",
       "    <tr>\n",
       "      <th>6</th>\n",
       "      <td>r112345</td>\n",
       "      <td>21/09/2023</td>\n",
       "      <td>01/01/2024</td>\n",
       "      <td>102</td>\n",
       "    </tr>\n",
       "    <tr>\n",
       "      <th>7</th>\n",
       "      <td>r124589</td>\n",
       "      <td>10/08/2023</td>\n",
       "      <td>01/12/2023</td>\n",
       "      <td>113</td>\n",
       "    </tr>\n",
       "    <tr>\n",
       "      <th>8</th>\n",
       "      <td>r457899</td>\n",
       "      <td>10/10/2023</td>\n",
       "      <td>24/01/2024</td>\n",
       "      <td>106</td>\n",
       "    </tr>\n",
       "    <tr>\n",
       "      <th>9</th>\n",
       "      <td>r012345</td>\n",
       "      <td>11/09/2023</td>\n",
       "      <td>22/12/2023</td>\n",
       "      <td>102</td>\n",
       "    </tr>\n",
       "  </tbody>\n",
       "</table>\n",
       "</div>"
      ],
      "text/plain": [
       "  studentnummer inschrijfdatum uitschrijfdatum  aantal dagen\n",
       "3       r012345     11/09/2023      22/12/2023           102\n",
       "6       r112345     21/09/2023      01/01/2024           102\n",
       "7       r124589     10/08/2023      01/12/2023           113\n",
       "8       r457899     10/10/2023      24/01/2024           106\n",
       "9       r012345     11/09/2023      22/12/2023           102"
      ]
     },
     "execution_count": 196,
     "metadata": {},
     "output_type": "execute_result"
    }
   ],
   "source": [
    "data = data[data[\"aantal dagen\"] >=0]\n",
    "data.head()"
   ]
  },
  {
   "attachments": {},
   "cell_type": "markdown",
   "metadata": {},
   "source": [
    "Geef een visueel overzicht in de vorm van een histogram van het aantal studenten dat eenzelfde aantal dagen is ingeschreven.\n",
    "Voorbeeld: \n",
    "\n",
    "![output.png contains an image of the expected output. A histogram is shown with \"aantal dagen ingeschreven\" on the x-axis and \"aantal studenten\" on the y-axis.](output.png)"
   ]
  },
  {
   "cell_type": "code",
   "execution_count": 203,
   "metadata": {},
   "outputs": [
    {
     "data": {
      "image/png": "[encoded data removed]",
      "text/plain": [
       "<Figure size 640x480 with 1 Axes>"
      ]
     },
     "metadata": {},
     "output_type": "display_data"
    }
   ],
   "source": [
    "import matplotlib.pyplot as plt\n",
    "\n",
    "total_days = pd.DataFrame(data[\"aantal dagen\"])\n",
    "count_genres = total_days.value_counts().plot(kind='bar')\n",
    "plt.xlabel(\"Aantal dagen ingeschreven\")\n",
    "plt.ylabel(\"Aantal studenten\")\n",
    "plt.show()"
   ]
  }
 ],
 "metadata": {
  "kernelspec": {
   "display_name": "Python 3",
   "language": "python",
   "name": "python3"
  },
  "language_info": {
   "codemirror_mode": {
    "name": "ipython",
    "version": 3
   },
   "file_extension": ".py",
   "mimetype": "text/x-python",
   "name": "python",
   "nbconvert_exporter": "python",
   "pygments_lexer": "ipython3",
   "version": "3.11.3"
  },
  "orig_nbformat": 4
 },
 "nbformat": 4,
 "nbformat_minor": 2
}
