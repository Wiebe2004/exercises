{
 "cells": [
  {
   "attachments": {},
   "cell_type": "markdown",
   "metadata": {},
   "source": [
    "Het bestand \"studentInfo.csv\" bevat informatie over de in- en uitschrijfdatum van studenten. Wanneer een student nog niet uitgeschreven is, dan is de waarde van uitschrijfdatum None. De datums zijn in volgend formaat dd/mm/jjjj."
   ]
  },
  {
   "attachments": {},
   "cell_type": "markdown",
   "metadata": {},
   "source": [
    "Lees het bestand in een panda dataframe."
   ]
  },
  {
   "cell_type": "code",
   "execution_count": 2,
   "metadata": {},
   "outputs": [],
   "source": [
    "import pandas as pd\n",
    "import matplotlib.pyplot as plt\n",
    "import numpy as np\n",
    "\n",
    "data = pd.read_csv(\"studentInfo.csv\", delimiter=\";\")"
   ]
  },
  {
   "attachments": {},
   "cell_type": "markdown",
   "metadata": {},
   "source": [
    "Toon de eerste rijen om na te gaan of dit goed gelukt is."
   ]
  },
  {
   "cell_type": "code",
   "execution_count": 3,
   "metadata": {},
   "outputs": [
    {
     "data": {
      "text/html": [
       "<div>\n",
       "<style scoped>\n",
       "    .dataframe tbody tr th:only-of-type {\n",
       "        vertical-align: middle;\n",
       "    }\n",
       "\n",
       "    .dataframe tbody tr th {\n",
       "        vertical-align: top;\n",
       "    }\n",
       "\n",
       "    .dataframe thead th {\n",
       "        text-align: right;\n",
       "    }\n",
       "</style>\n",
       "<table border=\"1\" class=\"dataframe\">\n",
       "  <thead>\n",
       "    <tr style=\"text-align: right;\">\n",
       "      <th></th>\n",
       "      <th>studentnummer</th>\n",
       "      <th>inschrijfdatum</th>\n",
       "      <th>uitschrijfdatum</th>\n",
       "    </tr>\n",
       "  </thead>\n",
       "  <tbody>\n",
       "    <tr>\n",
       "      <th>0</th>\n",
       "      <td>r012345</td>\n",
       "      <td>11/09/2023</td>\n",
       "      <td>NaN</td>\n",
       "    </tr>\n",
       "    <tr>\n",
       "      <th>1</th>\n",
       "      <td>r124589</td>\n",
       "      <td>10/05/2023</td>\n",
       "      <td>01/12/2022</td>\n",
       "    </tr>\n",
       "    <tr>\n",
       "      <th>2</th>\n",
       "      <td>r457899</td>\n",
       "      <td>10/10/2023</td>\n",
       "      <td>24/31/2024</td>\n",
       "    </tr>\n",
       "    <tr>\n",
       "      <th>3</th>\n",
       "      <td>r012345</td>\n",
       "      <td>11/09/2023</td>\n",
       "      <td>22/12/2023</td>\n",
       "    </tr>\n",
       "    <tr>\n",
       "      <th>4</th>\n",
       "      <td>r024589</td>\n",
       "      <td>10/18/2023</td>\n",
       "      <td>100/12/2023</td>\n",
       "    </tr>\n",
       "  </tbody>\n",
       "</table>\n",
       "</div>"
      ],
      "text/plain": [
       "  studentnummer inschrijfdatum uitschrijfdatum\n",
       "0       r012345     11/09/2023             NaN\n",
       "1       r124589     10/05/2023      01/12/2022\n",
       "2       r457899     10/10/2023      24/31/2024\n",
       "3       r012345     11/09/2023      22/12/2023\n",
       "4       r024589     10/18/2023     100/12/2023"
      ]
     },
     "execution_count": 3,
     "metadata": {},
     "output_type": "execute_result"
    }
   ],
   "source": [
    "data.head()"
   ]
  },
  {
   "attachments": {},
   "cell_type": "markdown",
   "metadata": {},
   "source": [
    "Verwijder alle rijen met in de kolom \"uitschrijfdatum\" een niet geldige datum (ook None is uiteraard een niet geldige datum). \n",
    "Toon opnieuw de eerste rijen om na te gaan of dit goed gelukt is"
   ]
  },
  {
   "cell_type": "code",
   "execution_count": 4,
   "metadata": {},
   "outputs": [
    {
     "data": {
      "text/html": [
       "<div>\n",
       "<style scoped>\n",
       "    .dataframe tbody tr th:only-of-type {\n",
       "        vertical-align: middle;\n",
       "    }\n",
       "\n",
       "    .dataframe tbody tr th {\n",
       "        vertical-align: top;\n",
       "    }\n",
       "\n",
       "    .dataframe thead th {\n",
       "        text-align: right;\n",
       "    }\n",
       "</style>\n",
       "<table border=\"1\" class=\"dataframe\">\n",
       "  <thead>\n",
       "    <tr style=\"text-align: right;\">\n",
       "      <th></th>\n",
       "      <th>studentnummer</th>\n",
       "      <th>inschrijfdatum</th>\n",
       "      <th>uitschrijfdatum</th>\n",
       "    </tr>\n",
       "  </thead>\n",
       "  <tbody>\n",
       "    <tr>\n",
       "      <th>1</th>\n",
       "      <td>r124589</td>\n",
       "      <td>10/05/2023</td>\n",
       "      <td>2022-12-01</td>\n",
       "    </tr>\n",
       "    <tr>\n",
       "      <th>3</th>\n",
       "      <td>r012345</td>\n",
       "      <td>11/09/2023</td>\n",
       "      <td>2023-12-22</td>\n",
       "    </tr>\n",
       "    <tr>\n",
       "      <th>6</th>\n",
       "      <td>r112345</td>\n",
       "      <td>21/09/2023</td>\n",
       "      <td>2024-01-01</td>\n",
       "    </tr>\n",
       "    <tr>\n",
       "      <th>7</th>\n",
       "      <td>r124589</td>\n",
       "      <td>10/08/2023</td>\n",
       "      <td>2023-12-01</td>\n",
       "    </tr>\n",
       "    <tr>\n",
       "      <th>8</th>\n",
       "      <td>r457899</td>\n",
       "      <td>10/10/2023</td>\n",
       "      <td>2024-01-24</td>\n",
       "    </tr>\n",
       "  </tbody>\n",
       "</table>\n",
       "</div>"
      ],
      "text/plain": [
       "  studentnummer inschrijfdatum uitschrijfdatum\n",
       "1       r124589     10/05/2023      2022-12-01\n",
       "3       r012345     11/09/2023      2023-12-22\n",
       "6       r112345     21/09/2023      2024-01-01\n",
       "7       r124589     10/08/2023      2023-12-01\n",
       "8       r457899     10/10/2023      2024-01-24"
      ]
     },
     "execution_count": 4,
     "metadata": {},
     "output_type": "execute_result"
    }
   ],
   "source": [
    "data['uitschrijfdatum'] = pd.to_datetime(data['uitschrijfdatum'], format='%d/%m/%Y', errors='coerce')\n",
    "data = data.dropna()\n",
    "data.head() "
   ]
  },
  {
   "attachments": {},
   "cell_type": "markdown",
   "metadata": {},
   "source": [
    "Verwijder alle rijen  met een niet geldige datum in de kolom \"inschrijfdatum\" ."
   ]
  },
  {
   "cell_type": "code",
   "execution_count": null,
   "metadata": {},
   "outputs": [],
   "source": [
    "data['inschrijfdatum'] = pd.to_datetime(data['inschrijfdatum'], format='%d/%m/%Y', errors='coerce')\n",
    "data = data.dropna()\n",
    "data.head() "
   ]
  },
  {
   "attachments": {},
   "cell_type": "markdown",
   "metadata": {},
   "source": [
    "Maak een nieuwe kolom \"aantal dagen\" dat het aantal dagen tussen in- en uitschrijfdatum bevat."
   ]
  },
  {
   "cell_type": "code",
   "execution_count": null,
   "metadata": {},
   "outputs": [],
   "source": [
    "data ['aantal dagen'] = (data['uitschrijfdatum'] - data['inschrijfdatum']).dt.days\n",
    "data.head(15)"
   ]
  },
  {
   "attachments": {},
   "cell_type": "markdown",
   "metadata": {},
   "source": [
    "Verwijder alle rijen waarvoor de kolom \"aantal dagen\" een negatieve waarde heeft."
   ]
  },
  {
   "cell_type": "code",
   "execution_count": null,
   "metadata": {},
   "outputs": [],
   "source": [
    "data = data[data['aantal dagen'] >= 0]\n",
    "data = data.dropna()\n",
    "data.head(15)"
   ]
  },
  {
   "attachments": {},
   "cell_type": "markdown",
   "metadata": {},
   "source": [
    "Geef een visueel overzicht in de vorm van een histogram van het aantal studenten dat eenzelfde aantal dagen is ingeschreven.\n",
    "Voorbeeld: \n",
    "\n",
    "![output.png contains an image of the expected output. A histogram is shown with \"aantal dagen ingeschreven\" on the x-axis and \"aantal studenten\" on the y-axis.](output.png)"
   ]
  },
  {
   "cell_type": "code",
   "execution_count": null,
   "metadata": {},
   "outputs": [],
   "source": [
    "\n",
    "data = data.plot(kind=\"hist\")\n",
    "plt.xlabel(\"Aantal dagen ingeschreven\")\n",
    "plt.ylabel(\"Aantal studenten\")\n"
   ]
  }
 ],
 "metadata": {
  "kernelspec": {
   "display_name": "Python 3",
   "language": "python",
   "name": "python3"
  },
  "language_info": {
   "codemirror_mode": {
    "name": "ipython",
    "version": 3
   },
   "file_extension": ".py",
   "mimetype": "text/x-python",
   "name": "python",
   "nbconvert_exporter": "python",
   "pygments_lexer": "ipython3",
   "version": "3.11.5"
  },
  "orig_nbformat": 4
 },
 "nbformat": 4,
 "nbformat_minor": 2
}
