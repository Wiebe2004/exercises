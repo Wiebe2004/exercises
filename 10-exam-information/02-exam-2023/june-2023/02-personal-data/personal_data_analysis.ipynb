{
 "cells": [
  {
   "attachments": {},
   "cell_type": "markdown",
   "metadata": {},
   "source": [
    "Je krijgt van ons een csv bestand met de naam “persoonsgegevens.csv”. \n",
    "Het bestand bevat informatie van personen:\n",
    "-\tKolom 1: het rijksregisternummer van de persoon\n",
    "-\tKolom 2: de familienaam van de persoon\n",
    "-\tKolom 3: de voornaam van de persoon\n",
    "\n",
    "Een rijksregisternummer heeft volgend formaat: \n",
    "-\t3 keer 2 cijfers onderling gescheiden door een punt; dit is de geboortedatum van de persoon in de vorm jj.mm.dd (eerste twee cijfers zijn de 2 laatste cijfers van het geboortejaar, dan een punt, dan twee cijfers overeenkomstig de geboortemaand, dan een punt en dan nog eens twee cijfers overeenkomstig de geboortedag)\n",
    "-\tEen streepje “-“\n",
    "-\tDrie cijfers: dit is volgnummer om personen die op dezelfde dag geboren zijn van elkaar te onderscheiden; vrouwen krijgen een even volgnummer, mannen een oneven volgnummer\n",
    "-\tEen punt\n",
    "-\tTwee cijfers die als controlegetal werken; hoe deze controle gebeurd is voor deze opgave niet van belang\n",
    "Een vrouw geboren op 28 juli 1994 zou volgend rijksregisternummer kunnen hebben: \n",
    "94.07.28-124.89.\n",
    "We wensen een applicatie te maken om een overzicht te creëren van het aantal geboortes per dag van de week. In dit overzicht worden de dagen van de week voorgesteld met de Engelstalige benamingen, dus van \"Monday\" tot \"Sunday\".\n",
    "Vul in volgende de nodige stukjes code toe."
   ]
  },
  {
   "attachments": {},
   "cell_type": "markdown",
   "metadata": {},
   "source": [
    "Lees het bestand \"personal_data.csv\" in een panda Dataframe met de naam \"data\""
   ]
  },
  {
   "cell_type": "code",
   "execution_count": 10,
   "metadata": {},
   "outputs": [],
   "source": [
    "import pandas as pd\n",
    "\n",
    "filepath = \"personal_data.csv\"\n",
    "data = pd.read_csv(filepath,delimiter=';')  #delimiter is heel belangrijk voor data leesbaar te krijgen"
   ]
  },
  {
   "attachments": {},
   "cell_type": "markdown",
   "metadata": {},
   "source": [
    "Controleer of dit goed gedaan is door een aantal van de eerste rijen te tonen."
   ]
  },
  {
   "cell_type": "code",
   "execution_count": 11,
   "metadata": {},
   "outputs": [
    {
     "data": {
      "text/html": [
       "<div>\n",
       "<style scoped>\n",
       "    .dataframe tbody tr th:only-of-type {\n",
       "        vertical-align: middle;\n",
       "    }\n",
       "\n",
       "    .dataframe tbody tr th {\n",
       "        vertical-align: top;\n",
       "    }\n",
       "\n",
       "    .dataframe thead th {\n",
       "        text-align: right;\n",
       "    }\n",
       "</style>\n",
       "<table border=\"1\" class=\"dataframe\">\n",
       "  <thead>\n",
       "    <tr style=\"text-align: right;\">\n",
       "      <th></th>\n",
       "      <th>rijksregisternummer</th>\n",
       "      <th>naam</th>\n",
       "      <th>voornaam</th>\n",
       "    </tr>\n",
       "  </thead>\n",
       "  <tbody>\n",
       "    <tr>\n",
       "      <th>0</th>\n",
       "      <td>94.07.25-124.89</td>\n",
       "      <td>Lemmens</td>\n",
       "      <td>Elke</td>\n",
       "    </tr>\n",
       "    <tr>\n",
       "      <th>1</th>\n",
       "      <td>96.99.11-133.71</td>\n",
       "      <td>Janssens</td>\n",
       "      <td>Jef</td>\n",
       "    </tr>\n",
       "    <tr>\n",
       "      <th>2</th>\n",
       "      <td>02.122.12-122.32</td>\n",
       "      <td>Elen</td>\n",
       "      <td>Marieke</td>\n",
       "    </tr>\n",
       "    <tr>\n",
       "      <th>3</th>\n",
       "      <td>99.07.01-005.56</td>\n",
       "      <td>Hendriks</td>\n",
       "      <td>Hendrik</td>\n",
       "    </tr>\n",
       "    <tr>\n",
       "      <th>4</th>\n",
       "      <td>93.07.25-1248.89</td>\n",
       "      <td>Lemmens</td>\n",
       "      <td>Elke</td>\n",
       "    </tr>\n",
       "  </tbody>\n",
       "</table>\n",
       "</div>"
      ],
      "text/plain": [
       "  rijksregisternummer      naam voornaam\n",
       "0     94.07.25-124.89   Lemmens     Elke\n",
       "1     96.99.11-133.71  Janssens      Jef\n",
       "2    02.122.12-122.32      Elen  Marieke\n",
       "3     99.07.01-005.56  Hendriks  Hendrik\n",
       "4    93.07.25-1248.89   Lemmens     Elke"
      ]
     },
     "execution_count": 11,
     "metadata": {},
     "output_type": "execute_result"
    }
   ],
   "source": [
    "data.head()"
   ]
  },
  {
   "attachments": {},
   "cell_type": "markdown",
   "metadata": {},
   "source": [
    "Wijzig de rijksregisternummers die niet aan het juiste formaat voldoen (beschouw voorlopig enkel als goed formaat : 2cijfers.2cijfers.2cijfers-3cijfers.2cijfers) door None.\n",
    "Toon opnieuw de eerste rijen om na te gaan of dit gelukt is."
   ]
  },
  {
   "cell_type": "code",
   "execution_count": null,
   "metadata": {},
   "outputs": [],
   "source": [
    "dt ="
   ]
  },
  {
   "attachments": {},
   "cell_type": "markdown",
   "metadata": {},
   "source": [
    "Wijzig de rijksregisternummers waarvan de eerste 8 tekens niet overeenkomen met een datum door None.\n",
    "Toon opnieuw de eerste rijen om na te gaan of dit gelukt is."
   ]
  },
  {
   "cell_type": "code",
   "execution_count": null,
   "metadata": {},
   "outputs": [],
   "source": []
  },
  {
   "attachments": {},
   "cell_type": "markdown",
   "metadata": {},
   "source": [
    "Schrap de rijen in het dataframe waarin de waarde None in één van de kolommen voorkomt.\n",
    "Toon opnieuw de eerste rijen om na te gaan of dit gelukt is."
   ]
  },
  {
   "cell_type": "code",
   "execution_count": null,
   "metadata": {},
   "outputs": [],
   "source": []
  },
  {
   "attachments": {},
   "cell_type": "markdown",
   "metadata": {},
   "source": [
    "Wijzig het dataframe door een kolom toe te voegen met de naam “geboortedatum” die de geboortedatum als datetime object voorstelt.\n",
    "Toon opnieuw de eerste rijen om na te gaan of dit gelukt is."
   ]
  },
  {
   "cell_type": "code",
   "execution_count": null,
   "metadata": {},
   "outputs": [],
   "source": []
  },
  {
   "attachments": {},
   "cell_type": "markdown",
   "metadata": {},
   "source": [
    "Wijzig het dataframe door een kolom toe te voegen met de naam “dag” die de dag in de week voorstelt dat de persoon geboren is; de dagen zijn de Engelstalige namen voor de dagen.\n",
    "Toon opnieuw de eerste rijen om na te gaan of dit gelukt is."
   ]
  },
  {
   "cell_type": "code",
   "execution_count": null,
   "metadata": {},
   "outputs": [],
   "source": []
  },
  {
   "attachments": {},
   "cell_type": "markdown",
   "metadata": {},
   "source": [
    "Voer volgend stukje code uit."
   ]
  },
  {
   "cell_type": "code",
   "execution_count": null,
   "metadata": {},
   "outputs": [],
   "source": [
    "data[\"dag\"] = pd.Categorical(data[\"dag\"],[\"Monday\",\"Tuesday\", \"Wednesday\", \"Thursday\",\"Friday\",\"Saturday\",\"Sunday\"])\n",
    "data.head()"
   ]
  },
  {
   "attachments": {},
   "cell_type": "markdown",
   "metadata": {},
   "source": [
    "Toon een visueel overzicht in de vorm van een histogram van het aantal geboortes per dag van de week. "
   ]
  },
  {
   "cell_type": "code",
   "execution_count": null,
   "metadata": {},
   "outputs": [],
   "source": []
  }
 ],
 "metadata": {
  "kernelspec": {
   "display_name": "base",
   "language": "python",
   "name": "python3"
  },
  "language_info": {
   "codemirror_mode": {
    "name": "ipython",
    "version": 3
   },
   "file_extension": ".py",
   "mimetype": "text/x-python",
   "name": "python",
   "nbconvert_exporter": "python",
   "pygments_lexer": "ipython3",
   "version": "3.11.7"
  },
  "orig_nbformat": 4
 },
 "nbformat": 4,
 "nbformat_minor": 2
}
