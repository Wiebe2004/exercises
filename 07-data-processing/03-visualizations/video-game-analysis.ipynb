{
 "cells": [
  {
   "attachments": {},
   "cell_type": "markdown",
   "metadata": {},
   "source": [
    "<h1>Exploratory Data Analysis</h1>\n",
    "\n",
    "We're going to do some data exploration. For that, we'll need some date. You can find a video game dataset, among 200k other public datasets, available to download at <a href=\"https://www.kaggle.com/datasets/arnabchaki/popular-video-games-1980-2023?resource=download\">Kaggle</a>. We've already downloaded it for you and you'll find it, named *games.csv*, in the 07-data-processing folder.\n",
    "\n",
    "We will need to install some new libraries for this analysis: pandas and seaborn."
   ]
  },
  {
   "cell_type": "code",
   "execution_count": 2,
   "metadata": {},
   "outputs": [
    {
     "name": "stdout",
     "output_type": "stream",
     "text": [
      "Requirement already satisfied: numpy in c:\\users\\wiebe\\appdata\\local\\programs\\python\\python311\\lib\\site-packages (1.26.4)\n"
     ]
    },
    {
     "name": "stderr",
     "output_type": "stream",
     "text": [
      "\n",
      "[notice] A new release of pip is available: 24.0 -> 24.2\n",
      "[notice] To update, run: python.exe -m pip install --upgrade pip\n"
     ]
    }
   ],
   "source": [
    "# Install a pip package in the current Jupyter kernel\n",
    "import sys\n",
    "!{sys.executable} -m pip install numpy\n",
    "\n",
    "#import the libraries we'll be using\n",
    "\n",
    "import pandas as pd\n",
    "import numpy as np\n",
    "import ast\n",
    "import matplotlib.pyplot as plt\n",
    "import seaborn as sns\n",
    "\n",
    "from datetime import datetime\n",
    "from dateutil.parser import parse"
   ]
  },
  {
   "attachments": {},
   "cell_type": "markdown",
   "metadata": {},
   "source": [
    "<h3>Read the dataset</h3>\n",
    "Pandas is a library for working with data, you'll encounter it in nearly any python data analysis project. Here we will use the read_csv() function to create a dataframe."
   ]
  },
  {
   "cell_type": "code",
   "execution_count": 3,
   "metadata": {},
   "outputs": [],
   "source": [
    "filepath = \"../games.csv\"\n",
    "data = pd.read_csv(filepath,index_col = 0)\n",
    "# index_col is just indicating that there is a row number stored in the first column"
   ]
  },
  {
   "attachments": {},
   "cell_type": "markdown",
   "metadata": {},
   "source": [
    "<h3>Preview the data</h3>\n",
    "\n",
    "You can use the head() function to view the column headers and first few rows of data."
   ]
  },
  {
   "cell_type": "code",
   "execution_count": 4,
   "metadata": {},
   "outputs": [
    {
     "data": {
      "text/html": [
       "<div>\n",
       "<style scoped>\n",
       "    .dataframe tbody tr th:only-of-type {\n",
       "        vertical-align: middle;\n",
       "    }\n",
       "\n",
       "    .dataframe tbody tr th {\n",
       "        vertical-align: top;\n",
       "    }\n",
       "\n",
       "    .dataframe thead th {\n",
       "        text-align: right;\n",
       "    }\n",
       "</style>\n",
       "<table border=\"1\" class=\"dataframe\">\n",
       "  <thead>\n",
       "    <tr style=\"text-align: right;\">\n",
       "      <th></th>\n",
       "      <th>Title</th>\n",
       "      <th>Release Date</th>\n",
       "      <th>Team</th>\n",
       "      <th>Rating</th>\n",
       "      <th>Times Listed</th>\n",
       "      <th>Number of Reviews</th>\n",
       "      <th>Genres</th>\n",
       "      <th>Summary</th>\n",
       "      <th>Reviews</th>\n",
       "      <th>Plays</th>\n",
       "      <th>Playing</th>\n",
       "      <th>Backlogs</th>\n",
       "      <th>Wishlist</th>\n",
       "    </tr>\n",
       "  </thead>\n",
       "  <tbody>\n",
       "    <tr>\n",
       "      <th>0</th>\n",
       "      <td>Elden Ring</td>\n",
       "      <td>Feb 25, 2022</td>\n",
       "      <td>['Bandai Namco Entertainment', 'FromSoftware']</td>\n",
       "      <td>4.5</td>\n",
       "      <td>3.9K</td>\n",
       "      <td>3.9K</td>\n",
       "      <td>['Adventure', 'RPG']</td>\n",
       "      <td>Elden Ring is a fantasy, action and open world...</td>\n",
       "      <td>[\"The first playthrough of elden ring is one o...</td>\n",
       "      <td>17K</td>\n",
       "      <td>3.8K</td>\n",
       "      <td>4.6K</td>\n",
       "      <td>4.8K</td>\n",
       "    </tr>\n",
       "    <tr>\n",
       "      <th>1</th>\n",
       "      <td>Hades</td>\n",
       "      <td>Dec 10, 2019</td>\n",
       "      <td>['Supergiant Games']</td>\n",
       "      <td>4.3</td>\n",
       "      <td>2.9K</td>\n",
       "      <td>2.9K</td>\n",
       "      <td>['Adventure', 'Brawler', 'Indie', 'RPG']</td>\n",
       "      <td>A rogue-lite hack and slash dungeon crawler in...</td>\n",
       "      <td>['convinced this is a roguelike for people who...</td>\n",
       "      <td>21K</td>\n",
       "      <td>3.2K</td>\n",
       "      <td>6.3K</td>\n",
       "      <td>3.6K</td>\n",
       "    </tr>\n",
       "    <tr>\n",
       "      <th>2</th>\n",
       "      <td>The Legend of Zelda: Breath of the Wild</td>\n",
       "      <td>Mar 03, 2017</td>\n",
       "      <td>['Nintendo', 'Nintendo EPD Production Group No...</td>\n",
       "      <td>4.4</td>\n",
       "      <td>4.3K</td>\n",
       "      <td>4.3K</td>\n",
       "      <td>['Adventure', 'RPG']</td>\n",
       "      <td>The Legend of Zelda: Breath of the Wild is the...</td>\n",
       "      <td>['This game is the game (that is not CS:GO) th...</td>\n",
       "      <td>30K</td>\n",
       "      <td>2.5K</td>\n",
       "      <td>5K</td>\n",
       "      <td>2.6K</td>\n",
       "    </tr>\n",
       "    <tr>\n",
       "      <th>3</th>\n",
       "      <td>Undertale</td>\n",
       "      <td>Sep 15, 2015</td>\n",
       "      <td>['tobyfox', '8-4']</td>\n",
       "      <td>4.2</td>\n",
       "      <td>3.5K</td>\n",
       "      <td>3.5K</td>\n",
       "      <td>['Adventure', 'Indie', 'RPG', 'Turn Based Stra...</td>\n",
       "      <td>A small child falls into the Underground, wher...</td>\n",
       "      <td>['soundtrack is tied for #1 with nier automata...</td>\n",
       "      <td>28K</td>\n",
       "      <td>679</td>\n",
       "      <td>4.9K</td>\n",
       "      <td>1.8K</td>\n",
       "    </tr>\n",
       "    <tr>\n",
       "      <th>4</th>\n",
       "      <td>Hollow Knight</td>\n",
       "      <td>Feb 24, 2017</td>\n",
       "      <td>['Team Cherry']</td>\n",
       "      <td>4.4</td>\n",
       "      <td>3K</td>\n",
       "      <td>3K</td>\n",
       "      <td>['Adventure', 'Indie', 'Platform']</td>\n",
       "      <td>A 2D metroidvania with an emphasis on close co...</td>\n",
       "      <td>[\"this games worldbuilding is incredible, with...</td>\n",
       "      <td>21K</td>\n",
       "      <td>2.4K</td>\n",
       "      <td>8.3K</td>\n",
       "      <td>2.3K</td>\n",
       "    </tr>\n",
       "  </tbody>\n",
       "</table>\n",
       "</div>"
      ],
      "text/plain": [
       "                                     Title  Release Date  \\\n",
       "0                               Elden Ring  Feb 25, 2022   \n",
       "1                                    Hades  Dec 10, 2019   \n",
       "2  The Legend of Zelda: Breath of the Wild  Mar 03, 2017   \n",
       "3                                Undertale  Sep 15, 2015   \n",
       "4                            Hollow Knight  Feb 24, 2017   \n",
       "\n",
       "                                                Team  Rating Times Listed  \\\n",
       "0     ['Bandai Namco Entertainment', 'FromSoftware']     4.5         3.9K   \n",
       "1                               ['Supergiant Games']     4.3         2.9K   \n",
       "2  ['Nintendo', 'Nintendo EPD Production Group No...     4.4         4.3K   \n",
       "3                                 ['tobyfox', '8-4']     4.2         3.5K   \n",
       "4                                    ['Team Cherry']     4.4           3K   \n",
       "\n",
       "  Number of Reviews                                             Genres  \\\n",
       "0              3.9K                               ['Adventure', 'RPG']   \n",
       "1              2.9K           ['Adventure', 'Brawler', 'Indie', 'RPG']   \n",
       "2              4.3K                               ['Adventure', 'RPG']   \n",
       "3              3.5K  ['Adventure', 'Indie', 'RPG', 'Turn Based Stra...   \n",
       "4                3K                 ['Adventure', 'Indie', 'Platform']   \n",
       "\n",
       "                                             Summary  \\\n",
       "0  Elden Ring is a fantasy, action and open world...   \n",
       "1  A rogue-lite hack and slash dungeon crawler in...   \n",
       "2  The Legend of Zelda: Breath of the Wild is the...   \n",
       "3  A small child falls into the Underground, wher...   \n",
       "4  A 2D metroidvania with an emphasis on close co...   \n",
       "\n",
       "                                             Reviews Plays Playing Backlogs  \\\n",
       "0  [\"The first playthrough of elden ring is one o...   17K    3.8K     4.6K   \n",
       "1  ['convinced this is a roguelike for people who...   21K    3.2K     6.3K   \n",
       "2  ['This game is the game (that is not CS:GO) th...   30K    2.5K       5K   \n",
       "3  ['soundtrack is tied for #1 with nier automata...   28K     679     4.9K   \n",
       "4  [\"this games worldbuilding is incredible, with...   21K    2.4K     8.3K   \n",
       "\n",
       "  Wishlist  \n",
       "0     4.8K  \n",
       "1     3.6K  \n",
       "2     2.6K  \n",
       "3     1.8K  \n",
       "4     2.3K  "
      ]
     },
     "execution_count": 4,
     "metadata": {},
     "output_type": "execute_result"
    }
   ],
   "source": [
    "data.head()"
   ]
  },
  {
   "attachments": {},
   "cell_type": "markdown",
   "metadata": {},
   "source": [
    "The shape member gives the number of rows and columns in the entire dataframe. The info() function gives us some information about the columns. Here it's not particularly interesting, but we can see, for example that the rating is a numerical value."
   ]
  },
  {
   "cell_type": "code",
   "execution_count": 5,
   "metadata": {},
   "outputs": [
    {
     "data": {
      "text/plain": [
       "(1512, 13)"
      ]
     },
     "execution_count": 5,
     "metadata": {},
     "output_type": "execute_result"
    }
   ],
   "source": [
    "data.shape"
   ]
  },
  {
   "cell_type": "code",
   "execution_count": 6,
   "metadata": {},
   "outputs": [
    {
     "name": "stdout",
     "output_type": "stream",
     "text": [
      "<class 'pandas.core.frame.DataFrame'>\n",
      "Index: 1512 entries, 0 to 1511\n",
      "Data columns (total 13 columns):\n",
      " #   Column             Non-Null Count  Dtype  \n",
      "---  ------             --------------  -----  \n",
      " 0   Title              1512 non-null   object \n",
      " 1   Release Date       1512 non-null   object \n",
      " 2   Team               1511 non-null   object \n",
      " 3   Rating             1499 non-null   float64\n",
      " 4   Times Listed       1512 non-null   object \n",
      " 5   Number of Reviews  1512 non-null   object \n",
      " 6   Genres             1512 non-null   object \n",
      " 7   Summary            1511 non-null   object \n",
      " 8   Reviews            1512 non-null   object \n",
      " 9   Plays              1512 non-null   object \n",
      " 10  Playing            1512 non-null   object \n",
      " 11  Backlogs           1512 non-null   object \n",
      " 12  Wishlist           1512 non-null   object \n",
      "dtypes: float64(1), object(12)\n",
      "memory usage: 165.4+ KB\n"
     ]
    }
   ],
   "source": [
    "data.info()"
   ]
  },
  {
   "attachments": {},
   "cell_type": "markdown",
   "metadata": {},
   "source": [
    "<h3>Missing Values</h3>\n",
    "\n",
    "Notice the column above labeled \"Non-Null Count\". See how most columns have 1512 non-null values and this is the number of entries in the dataframe. So those columns are not missing any values.\n",
    "\n",
    "Note how Team and Rating have fewer than 1512 non-null values? We can display this a bit more clearly with a more custom-built table."
   ]
  },
  {
   "cell_type": "code",
   "execution_count": 7,
   "metadata": {},
   "outputs": [
    {
     "name": "stdout",
     "output_type": "stream",
     "text": [
      "Total records =  1512\n"
     ]
    },
    {
     "data": {
      "text/html": [
       "<div>\n",
       "<style scoped>\n",
       "    .dataframe tbody tr th:only-of-type {\n",
       "        vertical-align: middle;\n",
       "    }\n",
       "\n",
       "    .dataframe tbody tr th {\n",
       "        vertical-align: top;\n",
       "    }\n",
       "\n",
       "    .dataframe thead th {\n",
       "        text-align: right;\n",
       "    }\n",
       "</style>\n",
       "<table border=\"1\" class=\"dataframe\">\n",
       "  <thead>\n",
       "    <tr style=\"text-align: right;\">\n",
       "      <th></th>\n",
       "      <th>Total Missing</th>\n",
       "      <th>In Percent</th>\n",
       "    </tr>\n",
       "  </thead>\n",
       "  <tbody>\n",
       "    <tr>\n",
       "      <th>Rating</th>\n",
       "      <td>13</td>\n",
       "      <td>0.86</td>\n",
       "    </tr>\n",
       "    <tr>\n",
       "      <th>Team</th>\n",
       "      <td>1</td>\n",
       "      <td>0.07</td>\n",
       "    </tr>\n",
       "    <tr>\n",
       "      <th>Summary</th>\n",
       "      <td>1</td>\n",
       "      <td>0.07</td>\n",
       "    </tr>\n",
       "    <tr>\n",
       "      <th>Title</th>\n",
       "      <td>0</td>\n",
       "      <td>0.00</td>\n",
       "    </tr>\n",
       "    <tr>\n",
       "      <th>Release Date</th>\n",
       "      <td>0</td>\n",
       "      <td>0.00</td>\n",
       "    </tr>\n",
       "    <tr>\n",
       "      <th>Times Listed</th>\n",
       "      <td>0</td>\n",
       "      <td>0.00</td>\n",
       "    </tr>\n",
       "    <tr>\n",
       "      <th>Number of Reviews</th>\n",
       "      <td>0</td>\n",
       "      <td>0.00</td>\n",
       "    </tr>\n",
       "    <tr>\n",
       "      <th>Genres</th>\n",
       "      <td>0</td>\n",
       "      <td>0.00</td>\n",
       "    </tr>\n",
       "    <tr>\n",
       "      <th>Reviews</th>\n",
       "      <td>0</td>\n",
       "      <td>0.00</td>\n",
       "    </tr>\n",
       "    <tr>\n",
       "      <th>Plays</th>\n",
       "      <td>0</td>\n",
       "      <td>0.00</td>\n",
       "    </tr>\n",
       "    <tr>\n",
       "      <th>Playing</th>\n",
       "      <td>0</td>\n",
       "      <td>0.00</td>\n",
       "    </tr>\n",
       "    <tr>\n",
       "      <th>Backlogs</th>\n",
       "      <td>0</td>\n",
       "      <td>0.00</td>\n",
       "    </tr>\n",
       "    <tr>\n",
       "      <th>Wishlist</th>\n",
       "      <td>0</td>\n",
       "      <td>0.00</td>\n",
       "    </tr>\n",
       "  </tbody>\n",
       "</table>\n",
       "</div>"
      ],
      "text/plain": [
       "                   Total Missing  In Percent\n",
       "Rating                        13        0.86\n",
       "Team                           1        0.07\n",
       "Summary                        1        0.07\n",
       "Title                          0        0.00\n",
       "Release Date                   0        0.00\n",
       "Times Listed                   0        0.00\n",
       "Number of Reviews              0        0.00\n",
       "Genres                         0        0.00\n",
       "Reviews                        0        0.00\n",
       "Plays                          0        0.00\n",
       "Playing                        0        0.00\n",
       "Backlogs                       0        0.00\n",
       "Wishlist                       0        0.00"
      ]
     },
     "execution_count": 7,
     "metadata": {},
     "output_type": "execute_result"
    }
   ],
   "source": [
    "total_null = data.isnull().sum().sort_values(ascending = False)\n",
    "percent = ((data.isnull().sum()/data.isnull().count())*100).sort_values(ascending = False)\n",
    "print(\"Total records = \", data.shape[0])\n",
    "\n",
    "missing_data = pd.concat([total_null,percent.round(2)],axis=1,keys=['Total Missing','In Percent'])\n",
    "missing_data"
   ]
  },
  {
   "attachments": {},
   "cell_type": "markdown",
   "metadata": {},
   "source": [
    "We can manually replace those missing values. This prevents that they will cause problems with our calculations later. You'll learn more about replacing missing values in Machine Learning and Data Analytics next year.\n",
    "\n",
    "For now, we'll replace a missing rating with the average of all ratings; we can use the mean function to calculate that. And we'll replace missing text from Team and Summary by \"Unknown\"."
   ]
  },
  {
   "cell_type": "code",
   "execution_count": 9,
   "metadata": {},
   "outputs": [],
   "source": [
    "mean_rating = data['Rating'].mean()\n",
    "\n",
    "data['Rating'] = data['Rating'].replace(np.nan, mean_rating)\n",
    "data['Team'] = data['Team'].replace(np.nan, \"['Unknown Team']\")\n",
    "data['Summary'] = data['Summary'].replace(np.nan, 'Unknown Summary')"
   ]
  },
  {
   "attachments": {},
   "cell_type": "markdown",
   "metadata": {},
   "source": [
    "Let's recreate our table from above to check our replacements."
   ]
  },
  {
   "cell_type": "code",
   "execution_count": 10,
   "metadata": {},
   "outputs": [
    {
     "name": "stdout",
     "output_type": "stream",
     "text": [
      "Total records =  1512\n"
     ]
    },
    {
     "data": {
      "text/html": [
       "<div>\n",
       "<style scoped>\n",
       "    .dataframe tbody tr th:only-of-type {\n",
       "        vertical-align: middle;\n",
       "    }\n",
       "\n",
       "    .dataframe tbody tr th {\n",
       "        vertical-align: top;\n",
       "    }\n",
       "\n",
       "    .dataframe thead th {\n",
       "        text-align: right;\n",
       "    }\n",
       "</style>\n",
       "<table border=\"1\" class=\"dataframe\">\n",
       "  <thead>\n",
       "    <tr style=\"text-align: right;\">\n",
       "      <th></th>\n",
       "      <th>Total Missing</th>\n",
       "      <th>In Percent</th>\n",
       "    </tr>\n",
       "  </thead>\n",
       "  <tbody>\n",
       "    <tr>\n",
       "      <th>Title</th>\n",
       "      <td>0</td>\n",
       "      <td>0.0</td>\n",
       "    </tr>\n",
       "    <tr>\n",
       "      <th>Release Date</th>\n",
       "      <td>0</td>\n",
       "      <td>0.0</td>\n",
       "    </tr>\n",
       "    <tr>\n",
       "      <th>Team</th>\n",
       "      <td>0</td>\n",
       "      <td>0.0</td>\n",
       "    </tr>\n",
       "    <tr>\n",
       "      <th>Rating</th>\n",
       "      <td>0</td>\n",
       "      <td>0.0</td>\n",
       "    </tr>\n",
       "    <tr>\n",
       "      <th>Times Listed</th>\n",
       "      <td>0</td>\n",
       "      <td>0.0</td>\n",
       "    </tr>\n",
       "    <tr>\n",
       "      <th>Number of Reviews</th>\n",
       "      <td>0</td>\n",
       "      <td>0.0</td>\n",
       "    </tr>\n",
       "    <tr>\n",
       "      <th>Genres</th>\n",
       "      <td>0</td>\n",
       "      <td>0.0</td>\n",
       "    </tr>\n",
       "    <tr>\n",
       "      <th>Summary</th>\n",
       "      <td>0</td>\n",
       "      <td>0.0</td>\n",
       "    </tr>\n",
       "    <tr>\n",
       "      <th>Reviews</th>\n",
       "      <td>0</td>\n",
       "      <td>0.0</td>\n",
       "    </tr>\n",
       "    <tr>\n",
       "      <th>Plays</th>\n",
       "      <td>0</td>\n",
       "      <td>0.0</td>\n",
       "    </tr>\n",
       "    <tr>\n",
       "      <th>Playing</th>\n",
       "      <td>0</td>\n",
       "      <td>0.0</td>\n",
       "    </tr>\n",
       "    <tr>\n",
       "      <th>Backlogs</th>\n",
       "      <td>0</td>\n",
       "      <td>0.0</td>\n",
       "    </tr>\n",
       "    <tr>\n",
       "      <th>Wishlist</th>\n",
       "      <td>0</td>\n",
       "      <td>0.0</td>\n",
       "    </tr>\n",
       "  </tbody>\n",
       "</table>\n",
       "</div>"
      ],
      "text/plain": [
       "                   Total Missing  In Percent\n",
       "Title                          0         0.0\n",
       "Release Date                   0         0.0\n",
       "Team                           0         0.0\n",
       "Rating                         0         0.0\n",
       "Times Listed                   0         0.0\n",
       "Number of Reviews              0         0.0\n",
       "Genres                         0         0.0\n",
       "Summary                        0         0.0\n",
       "Reviews                        0         0.0\n",
       "Plays                          0         0.0\n",
       "Playing                        0         0.0\n",
       "Backlogs                       0         0.0\n",
       "Wishlist                       0         0.0"
      ]
     },
     "execution_count": 10,
     "metadata": {},
     "output_type": "execute_result"
    }
   ],
   "source": [
    "total_null = data.isnull().sum().sort_values(ascending = False)\n",
    "percent = ((data.isnull().sum()/data.isnull().count())*100).sort_values(ascending = False)\n",
    "print(\"Total records = \", data.shape[0])\n",
    "\n",
    "missing_data = pd.concat([total_null,percent.round(2)],axis=1,keys=['Total Missing','In Percent'])\n",
    "missing_data"
   ]
  },
  {
   "attachments": {},
   "cell_type": "markdown",
   "metadata": {},
   "source": [
    "We've successfully replaced all the missing values.\n",
    "\n",
    "<h3>Finding Duplicates</h3>\n",
    "\n",
    "There are also functions for finding and removing duplicate data."
   ]
  },
  {
   "cell_type": "code",
   "execution_count": 11,
   "metadata": {},
   "outputs": [
    {
     "data": {
      "text/html": [
       "<div>\n",
       "<style scoped>\n",
       "    .dataframe tbody tr th:only-of-type {\n",
       "        vertical-align: middle;\n",
       "    }\n",
       "\n",
       "    .dataframe tbody tr th {\n",
       "        vertical-align: top;\n",
       "    }\n",
       "\n",
       "    .dataframe thead th {\n",
       "        text-align: right;\n",
       "    }\n",
       "</style>\n",
       "<table border=\"1\" class=\"dataframe\">\n",
       "  <thead>\n",
       "    <tr style=\"text-align: right;\">\n",
       "      <th></th>\n",
       "      <th>Title</th>\n",
       "      <th>Release Date</th>\n",
       "      <th>Team</th>\n",
       "      <th>Rating</th>\n",
       "      <th>Times Listed</th>\n",
       "      <th>Number of Reviews</th>\n",
       "      <th>Genres</th>\n",
       "      <th>Summary</th>\n",
       "      <th>Reviews</th>\n",
       "      <th>Plays</th>\n",
       "      <th>Playing</th>\n",
       "      <th>Backlogs</th>\n",
       "      <th>Wishlist</th>\n",
       "    </tr>\n",
       "  </thead>\n",
       "  <tbody>\n",
       "    <tr>\n",
       "      <th>326</th>\n",
       "      <td>Elden Ring</td>\n",
       "      <td>Feb 25, 2022</td>\n",
       "      <td>['Bandai Namco Entertainment', 'FromSoftware']</td>\n",
       "      <td>4.5</td>\n",
       "      <td>3.9K</td>\n",
       "      <td>3.9K</td>\n",
       "      <td>['Adventure', 'RPG']</td>\n",
       "      <td>Elden Ring is a fantasy, action and open world...</td>\n",
       "      <td>[\"The first playthrough of elden ring is one o...</td>\n",
       "      <td>17K</td>\n",
       "      <td>3.8K</td>\n",
       "      <td>4.6K</td>\n",
       "      <td>4.8K</td>\n",
       "    </tr>\n",
       "    <tr>\n",
       "      <th>327</th>\n",
       "      <td>Hades</td>\n",
       "      <td>Dec 10, 2019</td>\n",
       "      <td>['Supergiant Games']</td>\n",
       "      <td>4.3</td>\n",
       "      <td>2.9K</td>\n",
       "      <td>2.9K</td>\n",
       "      <td>['Adventure', 'Brawler', 'Indie', 'RPG']</td>\n",
       "      <td>A rogue-lite hack and slash dungeon crawler in...</td>\n",
       "      <td>['convinced this is a roguelike for people who...</td>\n",
       "      <td>21K</td>\n",
       "      <td>3.2K</td>\n",
       "      <td>6.3K</td>\n",
       "      <td>3.6K</td>\n",
       "    </tr>\n",
       "    <tr>\n",
       "      <th>328</th>\n",
       "      <td>The Legend of Zelda: Breath of the Wild</td>\n",
       "      <td>Mar 03, 2017</td>\n",
       "      <td>['Nintendo', 'Nintendo EPD Production Group No...</td>\n",
       "      <td>4.4</td>\n",
       "      <td>4.3K</td>\n",
       "      <td>4.3K</td>\n",
       "      <td>['Adventure', 'RPG']</td>\n",
       "      <td>The Legend of Zelda: Breath of the Wild is the...</td>\n",
       "      <td>['This game is the game (that is not CS:GO) th...</td>\n",
       "      <td>30K</td>\n",
       "      <td>2.5K</td>\n",
       "      <td>5K</td>\n",
       "      <td>2.6K</td>\n",
       "    </tr>\n",
       "    <tr>\n",
       "      <th>329</th>\n",
       "      <td>Undertale</td>\n",
       "      <td>Sep 15, 2015</td>\n",
       "      <td>['tobyfox', '8-4']</td>\n",
       "      <td>4.2</td>\n",
       "      <td>3.5K</td>\n",
       "      <td>3.5K</td>\n",
       "      <td>['Adventure', 'Indie', 'RPG', 'Turn Based Stra...</td>\n",
       "      <td>A small child falls into the Underground, wher...</td>\n",
       "      <td>['soundtrack is tied for #1 with nier automata...</td>\n",
       "      <td>28K</td>\n",
       "      <td>679</td>\n",
       "      <td>4.9K</td>\n",
       "      <td>1.8K</td>\n",
       "    </tr>\n",
       "    <tr>\n",
       "      <th>330</th>\n",
       "      <td>Hollow Knight</td>\n",
       "      <td>Feb 24, 2017</td>\n",
       "      <td>['Team Cherry']</td>\n",
       "      <td>4.4</td>\n",
       "      <td>3K</td>\n",
       "      <td>3K</td>\n",
       "      <td>['Adventure', 'Indie', 'Platform']</td>\n",
       "      <td>A 2D metroidvania with an emphasis on close co...</td>\n",
       "      <td>[\"this games worldbuilding is incredible, with...</td>\n",
       "      <td>21K</td>\n",
       "      <td>2.4K</td>\n",
       "      <td>8.3K</td>\n",
       "      <td>2.3K</td>\n",
       "    </tr>\n",
       "  </tbody>\n",
       "</table>\n",
       "</div>"
      ],
      "text/plain": [
       "                                       Title  Release Date  \\\n",
       "326                               Elden Ring  Feb 25, 2022   \n",
       "327                                    Hades  Dec 10, 2019   \n",
       "328  The Legend of Zelda: Breath of the Wild  Mar 03, 2017   \n",
       "329                                Undertale  Sep 15, 2015   \n",
       "330                            Hollow Knight  Feb 24, 2017   \n",
       "\n",
       "                                                  Team  Rating Times Listed  \\\n",
       "326     ['Bandai Namco Entertainment', 'FromSoftware']     4.5         3.9K   \n",
       "327                               ['Supergiant Games']     4.3         2.9K   \n",
       "328  ['Nintendo', 'Nintendo EPD Production Group No...     4.4         4.3K   \n",
       "329                                 ['tobyfox', '8-4']     4.2         3.5K   \n",
       "330                                    ['Team Cherry']     4.4           3K   \n",
       "\n",
       "    Number of Reviews                                             Genres  \\\n",
       "326              3.9K                               ['Adventure', 'RPG']   \n",
       "327              2.9K           ['Adventure', 'Brawler', 'Indie', 'RPG']   \n",
       "328              4.3K                               ['Adventure', 'RPG']   \n",
       "329              3.5K  ['Adventure', 'Indie', 'RPG', 'Turn Based Stra...   \n",
       "330                3K                 ['Adventure', 'Indie', 'Platform']   \n",
       "\n",
       "                                               Summary  \\\n",
       "326  Elden Ring is a fantasy, action and open world...   \n",
       "327  A rogue-lite hack and slash dungeon crawler in...   \n",
       "328  The Legend of Zelda: Breath of the Wild is the...   \n",
       "329  A small child falls into the Underground, wher...   \n",
       "330  A 2D metroidvania with an emphasis on close co...   \n",
       "\n",
       "                                               Reviews Plays Playing Backlogs  \\\n",
       "326  [\"The first playthrough of elden ring is one o...   17K    3.8K     4.6K   \n",
       "327  ['convinced this is a roguelike for people who...   21K    3.2K     6.3K   \n",
       "328  ['This game is the game (that is not CS:GO) th...   30K    2.5K       5K   \n",
       "329  ['soundtrack is tied for #1 with nier automata...   28K     679     4.9K   \n",
       "330  [\"this games worldbuilding is incredible, with...   21K    2.4K     8.3K   \n",
       "\n",
       "    Wishlist  \n",
       "326     4.8K  \n",
       "327     3.6K  \n",
       "328     2.6K  \n",
       "329     1.8K  \n",
       "330     2.3K  "
      ]
     },
     "execution_count": 11,
     "metadata": {},
     "output_type": "execute_result"
    }
   ],
   "source": [
    "duplicates = data[data.duplicated()]\n",
    "\n",
    "duplicates.head()"
   ]
  },
  {
   "attachments": {},
   "cell_type": "markdown",
   "metadata": {},
   "source": [
    "We're a bit lucky here, because some of the duplicated rows are also present in the head() we saw at the beginning. So we can compare easily and see that Elden Ring at line 0 and line 326 is indeed the same data. Since we're going to drop these from the original dataframe, we can store them here in their own dataframe. IN reality, this is likely unnecessary since we don't have any need to work further with the duplicated rows."
   ]
  },
  {
   "cell_type": "code",
   "execution_count": 12,
   "metadata": {},
   "outputs": [
    {
     "data": {
      "text/plain": [
       "(1130, 13)"
      ]
     },
     "execution_count": 12,
     "metadata": {},
     "output_type": "execute_result"
    }
   ],
   "source": [
    "data = data.drop_duplicates()\n",
    "\n",
    "data.shape"
   ]
  },
  {
   "attachments": {},
   "cell_type": "markdown",
   "metadata": {},
   "source": [
    "Now we're down to 1130 rows instead of the original 1512.\n",
    "\n",
    "Next we'd like to represent the Release Date as a DateTime instead of a string. This allows us to order things chronologically for example."
   ]
  },
  {
   "cell_type": "code",
   "execution_count": 13,
   "metadata": {},
   "outputs": [
    {
     "ename": "ValueError",
     "evalue": "time data \"releases on TBD\" doesn't match format \"%b %d, %Y\", at position 423. You might want to try:\n    - passing `format` if your strings have a consistent format;\n    - passing `format='ISO8601'` if your strings are all ISO8601 but not necessarily in exactly the same format;\n    - passing `format='mixed'`, and the format will be inferred for each element individually. You might want to use `dayfirst` alongside this.",
     "output_type": "error",
     "traceback": [
      "\u001b[1;31m---------------------------------------------------------------------------\u001b[0m",
      "\u001b[1;31mValueError\u001b[0m                                Traceback (most recent call last)",
      "Cell \u001b[1;32mIn[13], line 2\u001b[0m\n\u001b[0;32m      1\u001b[0m \u001b[38;5;66;03m# convert the date column to a datetime object\u001b[39;00m\n\u001b[1;32m----> 2\u001b[0m data[\u001b[38;5;124m'\u001b[39m\u001b[38;5;124mRelease Date\u001b[39m\u001b[38;5;124m'\u001b[39m] \u001b[38;5;241m=\u001b[39m \u001b[43mpd\u001b[49m\u001b[38;5;241;43m.\u001b[39;49m\u001b[43mto_datetime\u001b[49m\u001b[43m(\u001b[49m\u001b[43mdata\u001b[49m\u001b[43m[\u001b[49m\u001b[38;5;124;43m'\u001b[39;49m\u001b[38;5;124;43mRelease Date\u001b[39;49m\u001b[38;5;124;43m'\u001b[39;49m\u001b[43m]\u001b[49m\u001b[43m)\u001b[49m\n\u001b[0;32m      4\u001b[0m \u001b[38;5;66;03m# get the day from the date column\u001b[39;00m\n\u001b[0;32m      5\u001b[0m data[\u001b[38;5;124m'\u001b[39m\u001b[38;5;124mDay\u001b[39m\u001b[38;5;124m'\u001b[39m] \u001b[38;5;241m=\u001b[39m data[\u001b[38;5;124m'\u001b[39m\u001b[38;5;124mRelease Date\u001b[39m\u001b[38;5;124m'\u001b[39m]\u001b[38;5;241m.\u001b[39mdt\u001b[38;5;241m.\u001b[39mday\n",
      "File \u001b[1;32mc:\\Users\\wiebe\\AppData\\Local\\Programs\\Python\\Python311\\Lib\\site-packages\\pandas\\core\\tools\\datetimes.py:1067\u001b[0m, in \u001b[0;36mto_datetime\u001b[1;34m(arg, errors, dayfirst, yearfirst, utc, format, exact, unit, infer_datetime_format, origin, cache)\u001b[0m\n\u001b[0;32m   1065\u001b[0m         result \u001b[38;5;241m=\u001b[39m arg\u001b[38;5;241m.\u001b[39mmap(cache_array)\n\u001b[0;32m   1066\u001b[0m     \u001b[38;5;28;01melse\u001b[39;00m:\n\u001b[1;32m-> 1067\u001b[0m         values \u001b[38;5;241m=\u001b[39m \u001b[43mconvert_listlike\u001b[49m\u001b[43m(\u001b[49m\u001b[43marg\u001b[49m\u001b[38;5;241;43m.\u001b[39;49m\u001b[43m_values\u001b[49m\u001b[43m,\u001b[49m\u001b[43m \u001b[49m\u001b[38;5;28;43mformat\u001b[39;49m\u001b[43m)\u001b[49m\n\u001b[0;32m   1068\u001b[0m         result \u001b[38;5;241m=\u001b[39m arg\u001b[38;5;241m.\u001b[39m_constructor(values, index\u001b[38;5;241m=\u001b[39marg\u001b[38;5;241m.\u001b[39mindex, name\u001b[38;5;241m=\u001b[39marg\u001b[38;5;241m.\u001b[39mname)\n\u001b[0;32m   1069\u001b[0m \u001b[38;5;28;01melif\u001b[39;00m \u001b[38;5;28misinstance\u001b[39m(arg, (ABCDataFrame, abc\u001b[38;5;241m.\u001b[39mMutableMapping)):\n",
      "File \u001b[1;32mc:\\Users\\wiebe\\AppData\\Local\\Programs\\Python\\Python311\\Lib\\site-packages\\pandas\\core\\tools\\datetimes.py:433\u001b[0m, in \u001b[0;36m_convert_listlike_datetimes\u001b[1;34m(arg, format, name, utc, unit, errors, dayfirst, yearfirst, exact)\u001b[0m\n\u001b[0;32m    431\u001b[0m \u001b[38;5;66;03m# `format` could be inferred, or user didn't ask for mixed-format parsing.\u001b[39;00m\n\u001b[0;32m    432\u001b[0m \u001b[38;5;28;01mif\u001b[39;00m \u001b[38;5;28mformat\u001b[39m \u001b[38;5;129;01mis\u001b[39;00m \u001b[38;5;129;01mnot\u001b[39;00m \u001b[38;5;28;01mNone\u001b[39;00m \u001b[38;5;129;01mand\u001b[39;00m \u001b[38;5;28mformat\u001b[39m \u001b[38;5;241m!=\u001b[39m \u001b[38;5;124m\"\u001b[39m\u001b[38;5;124mmixed\u001b[39m\u001b[38;5;124m\"\u001b[39m:\n\u001b[1;32m--> 433\u001b[0m     \u001b[38;5;28;01mreturn\u001b[39;00m \u001b[43m_array_strptime_with_fallback\u001b[49m\u001b[43m(\u001b[49m\u001b[43marg\u001b[49m\u001b[43m,\u001b[49m\u001b[43m \u001b[49m\u001b[43mname\u001b[49m\u001b[43m,\u001b[49m\u001b[43m \u001b[49m\u001b[43mutc\u001b[49m\u001b[43m,\u001b[49m\u001b[43m \u001b[49m\u001b[38;5;28;43mformat\u001b[39;49m\u001b[43m,\u001b[49m\u001b[43m \u001b[49m\u001b[43mexact\u001b[49m\u001b[43m,\u001b[49m\u001b[43m \u001b[49m\u001b[43merrors\u001b[49m\u001b[43m)\u001b[49m\n\u001b[0;32m    435\u001b[0m result, tz_parsed \u001b[38;5;241m=\u001b[39m objects_to_datetime64(\n\u001b[0;32m    436\u001b[0m     arg,\n\u001b[0;32m    437\u001b[0m     dayfirst\u001b[38;5;241m=\u001b[39mdayfirst,\n\u001b[1;32m   (...)\u001b[0m\n\u001b[0;32m    441\u001b[0m     allow_object\u001b[38;5;241m=\u001b[39m\u001b[38;5;28;01mTrue\u001b[39;00m,\n\u001b[0;32m    442\u001b[0m )\n\u001b[0;32m    444\u001b[0m \u001b[38;5;28;01mif\u001b[39;00m tz_parsed \u001b[38;5;129;01mis\u001b[39;00m \u001b[38;5;129;01mnot\u001b[39;00m \u001b[38;5;28;01mNone\u001b[39;00m:\n\u001b[0;32m    445\u001b[0m     \u001b[38;5;66;03m# We can take a shortcut since the datetime64 numpy array\u001b[39;00m\n\u001b[0;32m    446\u001b[0m     \u001b[38;5;66;03m# is in UTC\u001b[39;00m\n",
      "File \u001b[1;32mc:\\Users\\wiebe\\AppData\\Local\\Programs\\Python\\Python311\\Lib\\site-packages\\pandas\\core\\tools\\datetimes.py:467\u001b[0m, in \u001b[0;36m_array_strptime_with_fallback\u001b[1;34m(arg, name, utc, fmt, exact, errors)\u001b[0m\n\u001b[0;32m    456\u001b[0m \u001b[38;5;28;01mdef\u001b[39;00m \u001b[38;5;21m_array_strptime_with_fallback\u001b[39m(\n\u001b[0;32m    457\u001b[0m     arg,\n\u001b[0;32m    458\u001b[0m     name,\n\u001b[1;32m   (...)\u001b[0m\n\u001b[0;32m    462\u001b[0m     errors: \u001b[38;5;28mstr\u001b[39m,\n\u001b[0;32m    463\u001b[0m ) \u001b[38;5;241m-\u001b[39m\u001b[38;5;241m>\u001b[39m Index:\n\u001b[0;32m    464\u001b[0m \u001b[38;5;250m    \u001b[39m\u001b[38;5;124;03m\"\"\"\u001b[39;00m\n\u001b[0;32m    465\u001b[0m \u001b[38;5;124;03m    Call array_strptime, with fallback behavior depending on 'errors'.\u001b[39;00m\n\u001b[0;32m    466\u001b[0m \u001b[38;5;124;03m    \"\"\"\u001b[39;00m\n\u001b[1;32m--> 467\u001b[0m     result, tz_out \u001b[38;5;241m=\u001b[39m \u001b[43marray_strptime\u001b[49m\u001b[43m(\u001b[49m\u001b[43marg\u001b[49m\u001b[43m,\u001b[49m\u001b[43m \u001b[49m\u001b[43mfmt\u001b[49m\u001b[43m,\u001b[49m\u001b[43m \u001b[49m\u001b[43mexact\u001b[49m\u001b[38;5;241;43m=\u001b[39;49m\u001b[43mexact\u001b[49m\u001b[43m,\u001b[49m\u001b[43m \u001b[49m\u001b[43merrors\u001b[49m\u001b[38;5;241;43m=\u001b[39;49m\u001b[43merrors\u001b[49m\u001b[43m,\u001b[49m\u001b[43m \u001b[49m\u001b[43mutc\u001b[49m\u001b[38;5;241;43m=\u001b[39;49m\u001b[43mutc\u001b[49m\u001b[43m)\u001b[49m\n\u001b[0;32m    468\u001b[0m     \u001b[38;5;28;01mif\u001b[39;00m tz_out \u001b[38;5;129;01mis\u001b[39;00m \u001b[38;5;129;01mnot\u001b[39;00m \u001b[38;5;28;01mNone\u001b[39;00m:\n\u001b[0;32m    469\u001b[0m         unit \u001b[38;5;241m=\u001b[39m np\u001b[38;5;241m.\u001b[39mdatetime_data(result\u001b[38;5;241m.\u001b[39mdtype)[\u001b[38;5;241m0\u001b[39m]\n",
      "File \u001b[1;32mstrptime.pyx:501\u001b[0m, in \u001b[0;36mpandas._libs.tslibs.strptime.array_strptime\u001b[1;34m()\u001b[0m\n",
      "File \u001b[1;32mstrptime.pyx:451\u001b[0m, in \u001b[0;36mpandas._libs.tslibs.strptime.array_strptime\u001b[1;34m()\u001b[0m\n",
      "File \u001b[1;32mstrptime.pyx:583\u001b[0m, in \u001b[0;36mpandas._libs.tslibs.strptime._parse_with_format\u001b[1;34m()\u001b[0m\n",
      "\u001b[1;31mValueError\u001b[0m: time data \"releases on TBD\" doesn't match format \"%b %d, %Y\", at position 423. You might want to try:\n    - passing `format` if your strings have a consistent format;\n    - passing `format='ISO8601'` if your strings are all ISO8601 but not necessarily in exactly the same format;\n    - passing `format='mixed'`, and the format will be inferred for each element individually. You might want to use `dayfirst` alongside this."
     ]
    }
   ],
   "source": [
    "# convert the date column to a datetime object\n",
    "data['Release Date'] = pd.to_datetime(data['Release Date'])\n",
    "\n",
    "# get the day from the date column\n",
    "data['Day'] = data['Release Date'].dt.day\n",
    "data['Month'] = data['Release Date'].dt.strftime('%b')\n",
    "data['Year'] = data['Release Date'].dt.year\n",
    "data['Week day'] = data['Release Date'].dt.day_name()"
   ]
  },
  {
   "attachments": {},
   "cell_type": "markdown",
   "metadata": {},
   "source": [
    "Oops! Something went wrong. See the ValueError at the bottom of the output.\n",
    "\n",
    "\"ValueError: time data \"releases on TBD\" doesn't match format \"%b %d, %Y\", at position 423.\"\n",
    "\n",
    "So there are some entries in our dataframe that have not (or had not at the time this dataset was scraped) been released. We obviously can't parse a DateTime object out of \"releases on TBD\".\n",
    "\n",
    "<h3>Cleaning the Data</h3>\n",
    "\n",
    "Just like we replaced the missing values (nan) above, we can also replace these TBD dates. For simplicity, we can simply set them to today's date (or some future date if you prefer)."
   ]
  },
  {
   "cell_type": "code",
   "execution_count": 14,
   "metadata": {},
   "outputs": [],
   "source": [
    "# create a datetime object with the current time\n",
    "dt = datetime.now()\n",
    "# convert the datetime object to a string\n",
    "dt_str = dt.strftime('%b %d, %Y')\n",
    "# replace the TBD dates to the current date string\n",
    "data['Release Date'] = data['Release Date'].str.replace('releases on TBD', dt_str )"
   ]
  },
  {
   "attachments": {},
   "cell_type": "markdown",
   "metadata": {},
   "source": [
    "Let's try that again."
   ]
  },
  {
   "cell_type": "code",
   "execution_count": 15,
   "metadata": {},
   "outputs": [],
   "source": [
    "# convert the date column to a datetime object\n",
    "data['Release Date'] = pd.to_datetime(data['Release Date'])\n",
    "\n",
    "# add columns for Day, Month, and Year based on the Release Date Column data\n",
    "data['Day'] = data['Release Date'].dt.day\n",
    "data['Month'] = data['Release Date'].dt.strftime('%b')\n",
    "data['Year'] = data['Release Date'].dt.year\n",
    "\n",
    "# add a Week Day column with the day of the week that the game was released on\n",
    "data['Week day'] = data['Release Date'].dt.day_name()"
   ]
  },
  {
   "attachments": {},
   "cell_type": "markdown",
   "metadata": {},
   "source": [
    "Let's have another look at the data:"
   ]
  },
  {
   "cell_type": "code",
   "execution_count": 16,
   "metadata": {},
   "outputs": [
    {
     "data": {
      "text/html": [
       "<div>\n",
       "<style scoped>\n",
       "    .dataframe tbody tr th:only-of-type {\n",
       "        vertical-align: middle;\n",
       "    }\n",
       "\n",
       "    .dataframe tbody tr th {\n",
       "        vertical-align: top;\n",
       "    }\n",
       "\n",
       "    .dataframe thead th {\n",
       "        text-align: right;\n",
       "    }\n",
       "</style>\n",
       "<table border=\"1\" class=\"dataframe\">\n",
       "  <thead>\n",
       "    <tr style=\"text-align: right;\">\n",
       "      <th></th>\n",
       "      <th>Title</th>\n",
       "      <th>Release Date</th>\n",
       "      <th>Team</th>\n",
       "      <th>Rating</th>\n",
       "      <th>Times Listed</th>\n",
       "      <th>Number of Reviews</th>\n",
       "      <th>Genres</th>\n",
       "      <th>Summary</th>\n",
       "      <th>Reviews</th>\n",
       "      <th>Plays</th>\n",
       "      <th>Playing</th>\n",
       "      <th>Backlogs</th>\n",
       "      <th>Wishlist</th>\n",
       "      <th>Day</th>\n",
       "      <th>Month</th>\n",
       "      <th>Year</th>\n",
       "      <th>Week day</th>\n",
       "    </tr>\n",
       "  </thead>\n",
       "  <tbody>\n",
       "    <tr>\n",
       "      <th>0</th>\n",
       "      <td>Elden Ring</td>\n",
       "      <td>2022-02-25</td>\n",
       "      <td>['Bandai Namco Entertainment', 'FromSoftware']</td>\n",
       "      <td>4.5</td>\n",
       "      <td>3.9K</td>\n",
       "      <td>3.9K</td>\n",
       "      <td>['Adventure', 'RPG']</td>\n",
       "      <td>Elden Ring is a fantasy, action and open world...</td>\n",
       "      <td>[\"The first playthrough of elden ring is one o...</td>\n",
       "      <td>17K</td>\n",
       "      <td>3.8K</td>\n",
       "      <td>4.6K</td>\n",
       "      <td>4.8K</td>\n",
       "      <td>25</td>\n",
       "      <td>Feb</td>\n",
       "      <td>2022</td>\n",
       "      <td>Friday</td>\n",
       "    </tr>\n",
       "    <tr>\n",
       "      <th>1</th>\n",
       "      <td>Hades</td>\n",
       "      <td>2019-12-10</td>\n",
       "      <td>['Supergiant Games']</td>\n",
       "      <td>4.3</td>\n",
       "      <td>2.9K</td>\n",
       "      <td>2.9K</td>\n",
       "      <td>['Adventure', 'Brawler', 'Indie', 'RPG']</td>\n",
       "      <td>A rogue-lite hack and slash dungeon crawler in...</td>\n",
       "      <td>['convinced this is a roguelike for people who...</td>\n",
       "      <td>21K</td>\n",
       "      <td>3.2K</td>\n",
       "      <td>6.3K</td>\n",
       "      <td>3.6K</td>\n",
       "      <td>10</td>\n",
       "      <td>Dec</td>\n",
       "      <td>2019</td>\n",
       "      <td>Tuesday</td>\n",
       "    </tr>\n",
       "    <tr>\n",
       "      <th>2</th>\n",
       "      <td>The Legend of Zelda: Breath of the Wild</td>\n",
       "      <td>2017-03-03</td>\n",
       "      <td>['Nintendo', 'Nintendo EPD Production Group No...</td>\n",
       "      <td>4.4</td>\n",
       "      <td>4.3K</td>\n",
       "      <td>4.3K</td>\n",
       "      <td>['Adventure', 'RPG']</td>\n",
       "      <td>The Legend of Zelda: Breath of the Wild is the...</td>\n",
       "      <td>['This game is the game (that is not CS:GO) th...</td>\n",
       "      <td>30K</td>\n",
       "      <td>2.5K</td>\n",
       "      <td>5K</td>\n",
       "      <td>2.6K</td>\n",
       "      <td>3</td>\n",
       "      <td>Mar</td>\n",
       "      <td>2017</td>\n",
       "      <td>Friday</td>\n",
       "    </tr>\n",
       "    <tr>\n",
       "      <th>3</th>\n",
       "      <td>Undertale</td>\n",
       "      <td>2015-09-15</td>\n",
       "      <td>['tobyfox', '8-4']</td>\n",
       "      <td>4.2</td>\n",
       "      <td>3.5K</td>\n",
       "      <td>3.5K</td>\n",
       "      <td>['Adventure', 'Indie', 'RPG', 'Turn Based Stra...</td>\n",
       "      <td>A small child falls into the Underground, wher...</td>\n",
       "      <td>['soundtrack is tied for #1 with nier automata...</td>\n",
       "      <td>28K</td>\n",
       "      <td>679</td>\n",
       "      <td>4.9K</td>\n",
       "      <td>1.8K</td>\n",
       "      <td>15</td>\n",
       "      <td>Sep</td>\n",
       "      <td>2015</td>\n",
       "      <td>Tuesday</td>\n",
       "    </tr>\n",
       "    <tr>\n",
       "      <th>4</th>\n",
       "      <td>Hollow Knight</td>\n",
       "      <td>2017-02-24</td>\n",
       "      <td>['Team Cherry']</td>\n",
       "      <td>4.4</td>\n",
       "      <td>3K</td>\n",
       "      <td>3K</td>\n",
       "      <td>['Adventure', 'Indie', 'Platform']</td>\n",
       "      <td>A 2D metroidvania with an emphasis on close co...</td>\n",
       "      <td>[\"this games worldbuilding is incredible, with...</td>\n",
       "      <td>21K</td>\n",
       "      <td>2.4K</td>\n",
       "      <td>8.3K</td>\n",
       "      <td>2.3K</td>\n",
       "      <td>24</td>\n",
       "      <td>Feb</td>\n",
       "      <td>2017</td>\n",
       "      <td>Friday</td>\n",
       "    </tr>\n",
       "  </tbody>\n",
       "</table>\n",
       "</div>"
      ],
      "text/plain": [
       "                                     Title Release Date  \\\n",
       "0                               Elden Ring   2022-02-25   \n",
       "1                                    Hades   2019-12-10   \n",
       "2  The Legend of Zelda: Breath of the Wild   2017-03-03   \n",
       "3                                Undertale   2015-09-15   \n",
       "4                            Hollow Knight   2017-02-24   \n",
       "\n",
       "                                                Team  Rating Times Listed  \\\n",
       "0     ['Bandai Namco Entertainment', 'FromSoftware']     4.5         3.9K   \n",
       "1                               ['Supergiant Games']     4.3         2.9K   \n",
       "2  ['Nintendo', 'Nintendo EPD Production Group No...     4.4         4.3K   \n",
       "3                                 ['tobyfox', '8-4']     4.2         3.5K   \n",
       "4                                    ['Team Cherry']     4.4           3K   \n",
       "\n",
       "  Number of Reviews                                             Genres  \\\n",
       "0              3.9K                               ['Adventure', 'RPG']   \n",
       "1              2.9K           ['Adventure', 'Brawler', 'Indie', 'RPG']   \n",
       "2              4.3K                               ['Adventure', 'RPG']   \n",
       "3              3.5K  ['Adventure', 'Indie', 'RPG', 'Turn Based Stra...   \n",
       "4                3K                 ['Adventure', 'Indie', 'Platform']   \n",
       "\n",
       "                                             Summary  \\\n",
       "0  Elden Ring is a fantasy, action and open world...   \n",
       "1  A rogue-lite hack and slash dungeon crawler in...   \n",
       "2  The Legend of Zelda: Breath of the Wild is the...   \n",
       "3  A small child falls into the Underground, wher...   \n",
       "4  A 2D metroidvania with an emphasis on close co...   \n",
       "\n",
       "                                             Reviews Plays Playing Backlogs  \\\n",
       "0  [\"The first playthrough of elden ring is one o...   17K    3.8K     4.6K   \n",
       "1  ['convinced this is a roguelike for people who...   21K    3.2K     6.3K   \n",
       "2  ['This game is the game (that is not CS:GO) th...   30K    2.5K       5K   \n",
       "3  ['soundtrack is tied for #1 with nier automata...   28K     679     4.9K   \n",
       "4  [\"this games worldbuilding is incredible, with...   21K    2.4K     8.3K   \n",
       "\n",
       "  Wishlist  Day Month  Year Week day  \n",
       "0     4.8K   25   Feb  2022   Friday  \n",
       "1     3.6K   10   Dec  2019  Tuesday  \n",
       "2     2.6K    3   Mar  2017   Friday  \n",
       "3     1.8K   15   Sep  2015  Tuesday  \n",
       "4     2.3K   24   Feb  2017   Friday  "
      ]
     },
     "execution_count": 16,
     "metadata": {},
     "output_type": "execute_result"
    }
   ],
   "source": [
    "data.head()"
   ]
  },
  {
   "attachments": {},
   "cell_type": "markdown",
   "metadata": {},
   "source": [
    "If you recall, Rating is already a numeric value, but Times Listed, Number of Reviews, and others are not. Since we'd like to be able to analyze these, we can also covert these to numeric datatypes."
   ]
  },
  {
   "cell_type": "code",
   "execution_count": null,
   "metadata": {},
   "outputs": [],
   "source": [
    "# K represents 1000 so we multiply by 1000 in all these columns\n",
    "\n",
    "data['Times Listed'] = data['Times Listed'].str.replace('K', '').astype(float) * 1000\n",
    "data['Number of Reviews'] = data['Number of Reviews'].str.replace('K', '').astype(float) * 1000\n",
    "data['Plays'] = data['Plays'].str.replace('K', '').astype(float) * 1000\n",
    "data['Playing'] = data['Playing'].str.replace('K', '').astype(float) * 1000\n",
    "data['Backlogs'] = data['Backlogs'].str.replace('K', '').astype(float) * 1000\n",
    "data['Wishlist'] = data['Wishlist'].str.replace('K', '').astype(float) * 1000\n",
    "\n",
    "data.head()"
   ]
  },
  {
   "attachments": {},
   "cell_type": "markdown",
   "metadata": {},
   "source": [
    "<h3>Descriptive Statistics</h3>\n",
    "\n",
    "Now that we have converted our strings to numeric values, we can easily compute some descriptive statistics. In fact, pandas provides a describe() function for this."
   ]
  },
  {
   "cell_type": "code",
   "execution_count": null,
   "metadata": {},
   "outputs": [],
   "source": [
    "data.describe()"
   ]
  },
  {
   "cell_type": "code",
   "execution_count": null,
   "metadata": {},
   "outputs": [],
   "source": []
  },
  {
   "attachments": {},
   "cell_type": "markdown",
   "metadata": {},
   "source": [
    "<h3>Text Variables</h3>\n",
    "\n",
    "Have a look again at the data.head() output from earlier. Notice how Team, Genres, and Reviews can have multiple values for a single entry. These columns are actually stored as lists so more than one Team or more than one Genre can be attached to the same game.\n",
    "\n",
    "Pandas has an explode() function to create separate rows (each with the same index) to represent the multiple values."
   ]
  },
  {
   "cell_type": "code",
   "execution_count": null,
   "metadata": {},
   "outputs": [],
   "source": [
    "data['Team'] = data['Team'].apply(lambda x: ast.literal_eval(x))\n",
    "\n",
    "# create a sample DataFrame with a column containing multiple values\n",
    "df_team = pd.DataFrame({\n",
    "    'Title': data['Title'].tolist(),\n",
    "    'Team': data['Team'].tolist()\n",
    "})\n",
    "# use the explode method to transform the 'Team' column\n",
    "df_team = df_team.explode('Team')\n",
    "df_team"
   ]
  },
  {
   "cell_type": "code",
   "execution_count": null,
   "metadata": {},
   "outputs": [],
   "source": [
    "data['Genres'] = data['Genres'].apply(lambda x: ast.literal_eval(x))\n",
    "\n",
    "# create a sample DataFrame with a column containing multiple values\n",
    "df_genres = pd.DataFrame({\n",
    "    'Title': data['Title'].tolist(),\n",
    "    'Genres': data['Genres'].tolist()\n",
    "})\n",
    "# use the explode method to transform the 'Team' column\n",
    "df_genres = df_genres.explode('Genres')\n",
    "df_genres"
   ]
  },
  {
   "attachments": {},
   "cell_type": "markdown",
   "metadata": {},
   "source": [
    "<h3>Data Visualization</h3>\n",
    "\n",
    "A Histogram, also called a Distribution graph, shows how many entries (or rows) have a certain value or range of values."
   ]
  },
  {
   "cell_type": "code",
   "execution_count": null,
   "metadata": {},
   "outputs": [],
   "source": [
    "top_rating = data[['Title','Rating']].sort_values(by = 'Rating', ascending = False)\n",
    "\n",
    "sns.histplot(data = data['Rating'])\n",
    "\n",
    "plt.show()\n"
   ]
  },
  {
   "attachments": {},
   "cell_type": "markdown",
   "metadata": {},
   "source": [
    "Based on the histogram generated above, what are some conclusions you can make about video game ratings?\n",
    "\n",
    "Things to consider:\n",
    "* Are video game ratings evenly spread across the possible ratings or seem to follow a pattern?\n",
    "* Video games tend to be rated around what value?\n",
    "\n",
    "\n",
    "Remember how we used explode() to break out the multiple genres for each game. We can use that to show how many of each genre there are. Then plot them in a bar graph or pie chart."
   ]
  },
  {
   "cell_type": "code",
   "execution_count": null,
   "metadata": {},
   "outputs": [],
   "source": [
    "list_genres = pd.DataFrame(df_genres['Genres'])\n",
    "count_genres = list_genres.value_counts().plot(kind='bar')"
   ]
  },
  {
   "cell_type": "code",
   "execution_count": null,
   "metadata": {},
   "outputs": [],
   "source": [
    "count_genres = list_genres.value_counts().plot(kind='pie')"
   ]
  },
  {
   "attachments": {},
   "cell_type": "markdown",
   "metadata": {},
   "source": [
    "The labels get a bit messy here. We can make the chart bigger and move the labels to a legend or leave off some of the less popular genres. Which do you prefer?"
   ]
  },
  {
   "cell_type": "code",
   "execution_count": null,
   "metadata": {},
   "outputs": [],
   "source": [
    "genre_counts = pd.DataFrame(list_genres.value_counts().rename_axis('unique_values'))\n",
    "genre_counts\n",
    "\n",
    "#plot = genre_counts.plot(kind = 'pie', labels = None, y='count', figsize=(10, 10))"
   ]
  },
  {
   "cell_type": "code",
   "execution_count": null,
   "metadata": {},
   "outputs": [],
   "source": [
    "shortlist_genres = pd.DataFrame(list_genres.value_counts().head(10))\n",
    "shortlist_plot = list_genres.value_counts().head(10).plot(kind='pie')"
   ]
  },
  {
   "attachments": {},
   "cell_type": "markdown",
   "metadata": {},
   "source": [
    "It's worth mentioning, there are criticsms about pie charts in general. Humans aren't very good at determining angles and comparing pie slices. For more discussion on this topic, you can read <a href=\"https://www.data-to-viz.com/caveat/pie.html\">The Issue With the Pie Chart</a>."
   ]
  },
  {
   "attachments": {},
   "cell_type": "markdown",
   "metadata": {},
   "source": [
    "<h3>Bivariate Analysis or Correlations</h3>\n",
    "\n",
    "So far, we've focused on univariate analysis, that is, looking at one variable or column at a time. How many of each genre? What's the average rating? etc.\n",
    "\n",
    "The next step is to look at how two variables seem to be related to each other. Which genres are played by more players? Is there a relationship between the number of reviews and the average rating?"
   ]
  },
  {
   "cell_type": "code",
   "execution_count": null,
   "metadata": {},
   "outputs": [],
   "source": [
    "shortlist_genres"
   ]
  },
  {
   "cell_type": "code",
   "execution_count": null,
   "metadata": {},
   "outputs": [],
   "source": [
    "# create a sample DataFrame with a column containing multiple values\n",
    "plays_genre_df = pd.DataFrame({\n",
    "    'Title': data['Title'].tolist(),\n",
    "    'Genres': data['Genres'].tolist(),\n",
    "    'Plays': data['Plays'].tolist(),\n",
    "    'Playing': data['Playing'].tolist()\n",
    "})\n",
    "# use the explode method to transform the 'Genres' column\n",
    "plays_genre_df = plays_genre_df.explode('Genres')\n",
    "\n",
    "top10genres = ['Adventure','RPG','Shooter','Platform','Indie','Puzzle','Strategy','Brawler','Simulator','Turn Based Strategy']\n",
    "\n",
    "plays_genre_df = plays_genre_df.groupby('Genres')[['Plays', 'Playing']].sum().reset_index()\n",
    "plays_genre_df = plays_genre_df.loc[plays_genre_df['Genres'].isin(top10genres)]\n",
    "plays_genre_df"
   ]
  },
  {
   "cell_type": "code",
   "execution_count": null,
   "metadata": {},
   "outputs": [],
   "source": [
    "index = plays_genre_df['Genres'].tolist()\n",
    "value1 = plays_genre_df['Plays'].tolist()\n",
    "value2 = plays_genre_df['Playing'].tolist()\n",
    "\n",
    "# Create a horizontal stacked bar chart\n",
    "fig, ax = plt.subplots(figsize=(8, 6))\n",
    "bar_width = 0.35\n",
    "bar1 = ax.barh(index, value1, bar_width, label='Plays', color='#4c72b0')\n",
    "bar2 = ax.barh(index, value2, bar_width, left=value1, label='Playing', color='#4cbdc9')\n",
    "\n",
    "# Add labels and legend\n",
    "ax.set_xlabel('Number of players')\n",
    "ax.set_ylabel('Genres')\n",
    "ax.set_title('Number of players for each genre', fontweight='bold')\n",
    "ax.legend(loc='upper right')\n",
    "\n",
    "\n",
    "plt.show()"
   ]
  },
  {
   "attachments": {},
   "cell_type": "markdown",
   "metadata": {},
   "source": [
    "<h2>Task</h2>\n",
    "Choose a dataset on a topic that's interesting to you. You can search on <a href=\"https://www.kaggle.com/datasets\">Kaggle</a> or another public data repository. Create an Exploratory Data Analysis (what we've done here) of your own."
   ]
  }
 ],
 "metadata": {
  "kernelspec": {
   "display_name": ".venv",
   "language": "python",
   "name": "python3"
  },
  "language_info": {
   "codemirror_mode": {
    "name": "ipython",
    "version": 3
   },
   "file_extension": ".py",
   "mimetype": "text/x-python",
   "name": "python",
   "nbconvert_exporter": "python",
   "pygments_lexer": "ipython3",
   "version": "3.11.7"
  },
  "orig_nbformat": 4
 },
 "nbformat": 4,
 "nbformat_minor": 2
}
