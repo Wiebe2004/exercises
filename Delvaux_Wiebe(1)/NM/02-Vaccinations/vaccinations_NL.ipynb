{
 "cells": [
  {
   "cell_type": "markdown",
   "metadata": {},
   "source": [
    "# Data analyse: Vaccinaties\n",
    "In het bestand `vaccinations.csv` vind je vaccinatiegegevens van verschillende landen. Jouw taak is om deze data op te schonen en te analyseren. Gebruik de voorziene code-velden onder de opdrachten om je code in te schrijven.\n",
    "\n",
    "## Opgelet\n",
    "- Gebruik de voorziene code-velden onder de opdrachten om de gevraagde code in te schrijven.\n",
    "- Verdeel je code voor die opdracht niet in verschillende code-velden.\n",
    "- Verander of verwijder de commentaren (#) niet.\n",
    "- Gebruik de gevraagde benamingen voor de variabelen."
   ]
  },
  {
   "cell_type": "markdown",
   "metadata": {},
   "source": [
    "----"
   ]
  },
  {
   "cell_type": "markdown",
   "metadata": {},
   "source": [
    "Importeer de packages die je nodig hebt."
   ]
  },
  {
   "cell_type": "code",
   "execution_count": null,
   "metadata": {},
   "outputs": [],
   "source": [
    "import pandas as pd\n",
    "from matplotlib import pyplot as plt"
   ]
  },
  {
   "cell_type": "markdown",
   "metadata": {},
   "source": [
    "* Importeer de vaccinatiegegevens in een DataFrame met de naam `df_vaccinations`. \n",
    "* Inspecteer het DataFrame door de eerste 10 rijen te tonen (gebruik hiervoor geen slicing).\n"
   ]
  },
  {
   "cell_type": "code",
   "execution_count": null,
   "metadata": {},
   "outputs": [],
   "source": [
    "#Import and inspect\n",
    "df_vaccinations = pd.read_csv(\"Vaccinations.csv\")"
   ]
  },
  {
   "cell_type": "markdown",
   "metadata": {},
   "source": [
    "* Verander de data ('datums'/meervoud van datum) in de date kolom in pandas datetime objects.\n",
    "* Enkel de rijen met data uit 2021 moeten in het dataframe worden opgenomen."
   ]
  },
  {
   "cell_type": "code",
   "execution_count": null,
   "metadata": {},
   "outputs": [],
   "source": [
    "#datetime objects, year 2021\n",
    "\n"
   ]
  },
  {
   "cell_type": "markdown",
   "metadata": {},
   "source": [
    "* Verwijder de rijen met NaN-waarden"
   ]
  },
  {
   "cell_type": "code",
   "execution_count": null,
   "metadata": {},
   "outputs": [],
   "source": [
    "#NaN"
   ]
  },
  {
   "cell_type": "markdown",
   "metadata": {},
   "source": [
    "* Maak 4 verschillende DataFrames aan, één voor elk van deze landen: Lithuania, Bulgaria, Canada and Singapore. Geef ze respectievelijk volgende namen: `df_Lithuania`, `df_Bulgaria`, `df_Canada` en `df_Singapore`.\n",
    "* Elk dataframe moet de kolom met de datum bevatten en al de kolommen met de gegevens van het betreffende land."
   ]
  },
  {
   "cell_type": "code",
   "execution_count": null,
   "metadata": {},
   "outputs": [],
   "source": [
    "#New dataframes"
   ]
  },
  {
   "cell_type": "markdown",
   "metadata": {},
   "source": [
    "### Lithuania\n",
    "Teken een grafiek met daarop volgende informatie over de vaccinaties over een bepaalde periode in Lithuania:\n",
    "* Het aantal vaccinaties wordt op de y-as getoond\n",
    "* Dagelijkse vaccinaties (daily vaccinations) toon je in het groen (green)\n",
    "* Gevacineerde mensen (people vaccinated) toon je in het blauw (blue)\n",
    "* Volledig gevacineerde mensen (people fully vaccinated) toon je in het rood (red)\n",
    "* Toon ook een legende met gepaste labels die aanduiden welke data er wordt getoond\n",
    "* Zorg voor correcte as-labels en titel\n",
    "* Zorg dat er voor elke maand een markering is op de x-as. Label deze met de afkorting voor de maanden (jan, feb, maart etc. )\n",
    "\n",
    "Opmerking: de y-as zal logaritmische waardes bevatten. Je moet deze niet aanpassen. \n"
   ]
  },
  {
   "cell_type": "code",
   "execution_count": null,
   "metadata": {},
   "outputs": [],
   "source": [
    "#Lithuania"
   ]
  },
  {
   "cell_type": "markdown",
   "metadata": {},
   "source": [
    "### Daily vaccinations\n",
    "Dagelijkse vaccinaties   \n",
    "\n",
    "Maak een nieuwe grafiek met de dagelijkse vaccinatiegegevens gedurende een bepaalde periode voor de landen waarvoor je aparte dataframes hebt gemaakt. Het aantal mensen wordt op de y-as getoond.\n",
    "\n",
    "* Lithuania in oranje (orange)\n",
    "* Canada in rood (red)\n",
    "* Singapore in groen (green)\n",
    "* Bulgaria in blauw (blue)\n",
    "* Toon een legende met gepaste labels die duidelijk maken welke gegevens worden getoond\n",
    "* Zorg voor correcte as-labels en titel\n",
    "* Voorzie markeringen voor elke maand op de x-as, gelabeld met de afkorting van de maanden (jan, feb, maart etc.)\n",
    "* Toon een raster (grid)\n"
   ]
  },
  {
   "cell_type": "code",
   "execution_count": null,
   "metadata": {},
   "outputs": [],
   "source": [
    "#Daily vaccinations\n",
    "import matplotlib.patches as mpatches\n",
    "import numpy as np\n",
    "\n",
    "# colors = plt.cm.viridis(np.linspace(0, 1, len(champions)))\n",
    "colors = ['red', 'orange', 'green', 'blue']\n",
    "champions.plot(x='Landen', y='Aantal mensen', kind='bar', figsize=(6, 6), color=colors)\n",
    "\n",
    "patches = [mpatches.Patch(color=colors[i], label=champion) for i, champion in enumerate(champions['Champion Name'])]\n",
    "\n",
    "plt.title('Base Attack Damage of my Favorite Champions')\n",
    "plt.xlabel('Champion Name')\n",
    "plt.ylabel('Base Attack Damage')\n",
    "plt.legend(handles=patches, loc='upper right')\n",
    "plt.ylim([0, 100]) # limiting the height of the y-axis\n",
    "plt.xticks(rotation='horizontal')  # make x-axis labels horizontal\n",
    "plt.yticks(rotation='vertical')\n",
    "plt.show()"
   ]
  },
  {
   "cell_type": "markdown",
   "metadata": {},
   "source": [
    "___\n"
   ]
  },
  {
   "cell_type": "markdown",
   "metadata": {},
   "source": [
    "Controleer je werk grondig en zorg ervoor dat je alle opdrachten hebt gemaakt.   \n",
    "Er zijn geen testen voorzien voor deze data analyse oefening. Zorg ervoor dat je de juiste namen hebt gebruikt."
   ]
  },
  {
   "cell_type": "markdown",
   "metadata": {},
   "source": [
    "___\n"
   ]
  }
 ],
 "metadata": {
  "kernelspec": {
   "display_name": "Python 3",
   "language": "python",
   "name": "python3"
  },
  "language_info": {
   "codemirror_mode": {
    "name": "ipython",
    "version": 3
   },
   "file_extension": ".py",
   "mimetype": "text/x-python",
   "name": "python",
   "nbconvert_exporter": "python",
   "pygments_lexer": "ipython3",
   "version": "3.12.0"
  }
 },
 "nbformat": 4,
 "nbformat_minor": 2
}
