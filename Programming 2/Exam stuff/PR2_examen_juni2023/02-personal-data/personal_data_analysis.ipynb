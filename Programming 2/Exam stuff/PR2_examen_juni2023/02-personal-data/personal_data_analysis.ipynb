{
 "cells": [
  {
   "attachments": {},
   "cell_type": "markdown",
   "metadata": {},
   "source": [
    "You will receive a csv file called “personal data.csv” from us. \n",
    "The file contains information of persons:\n",
    "- Column 1: the person's national register number\n",
    "- Column 2: the surname of the person\n",
    "- Column 3: the first name of the person\n",
    "\n",
    "A national number has the following format: \n",
    "- 3 times 2 digits separated by a dot; this is the date of birth of the person in the form yy.mm.dd (first two digits are the 2 last digits of the year of birth, then a dot, then two digits corresponding to the month of birth, then a dot and then two more digits corresponding to the day of birth)\n",
    "- A dash “-”\n",
    "- Three digits: this is serial number to distinguish persons born on the same day; women get an even serial number, men an odd serial number\n",
    "- One dot\n",
    "- Two digits that act as a control number; how this control is done is not important for this statement\n",
    "A woman born on July 28, 1994 might have the following national registry number: \n",
    "94.07.28-124.89.\n",
    "We wish to create an application to create an overview of the number of births per day of the week. In this overview, the days of the week are represented by their English names, i.e., from “Monday” to “Sunday.”\n",
    "In the following, add the necessary pieces of code."
   ]
  },
  {
   "attachments": {},
   "cell_type": "markdown",
   "metadata": {},
   "source": [
    "Read the file “personal_data.csv” into a panda Dataframe named “data”"
   ]
  },
  {
   "cell_type": "code",
   "execution_count": 158,
   "metadata": {},
   "outputs": [],
   "source": [
    "import pandas as pd\n",
    "import matplotlib.pyplot as plt\n",
    "import re\n",
    "import datetime\n",
    "data = pd.read_csv(\"personal_data.csv\")"
   ]
  },
  {
   "attachments": {},
   "cell_type": "markdown",
   "metadata": {},
   "source": [
    "Check that this is done correctly by showing some of the first rows."
   ]
  },
  {
   "cell_type": "code",
   "execution_count": 159,
   "metadata": {},
   "outputs": [
    {
     "data": {
      "text/html": [
       "<div>\n",
       "<style scoped>\n",
       "    .dataframe tbody tr th:only-of-type {\n",
       "        vertical-align: middle;\n",
       "    }\n",
       "\n",
       "    .dataframe tbody tr th {\n",
       "        vertical-align: top;\n",
       "    }\n",
       "\n",
       "    .dataframe thead th {\n",
       "        text-align: right;\n",
       "    }\n",
       "</style>\n",
       "<table border=\"1\" class=\"dataframe\">\n",
       "  <thead>\n",
       "    <tr style=\"text-align: right;\">\n",
       "      <th></th>\n",
       "      <th>rijksregisternummer;naam;voornaam</th>\n",
       "    </tr>\n",
       "  </thead>\n",
       "  <tbody>\n",
       "    <tr>\n",
       "      <th>0</th>\n",
       "      <td>94.07.25-124.89;Lemmens;Elke</td>\n",
       "    </tr>\n",
       "    <tr>\n",
       "      <th>1</th>\n",
       "      <td>96.99.11-133.71;Janssens;Jef</td>\n",
       "    </tr>\n",
       "    <tr>\n",
       "      <th>2</th>\n",
       "      <td>02.122.12-122.32;Elen;Marieke</td>\n",
       "    </tr>\n",
       "    <tr>\n",
       "      <th>3</th>\n",
       "      <td>99.07.01-005.56;Hendriks;Hendrik</td>\n",
       "    </tr>\n",
       "    <tr>\n",
       "      <th>4</th>\n",
       "      <td>93.07.25-1248.89;Lemmens;Elke</td>\n",
       "    </tr>\n",
       "  </tbody>\n",
       "</table>\n",
       "</div>"
      ],
      "text/plain": [
       "  rijksregisternummer;naam;voornaam\n",
       "0      94.07.25-124.89;Lemmens;Elke\n",
       "1      96.99.11-133.71;Janssens;Jef\n",
       "2     02.122.12-122.32;Elen;Marieke\n",
       "3  99.07.01-005.56;Hendriks;Hendrik\n",
       "4     93.07.25-1248.89;Lemmens;Elke"
      ]
     },
     "execution_count": 159,
     "metadata": {},
     "output_type": "execute_result"
    }
   ],
   "source": [
    "data.head()"
   ]
  },
  {
   "attachments": {},
   "cell_type": "markdown",
   "metadata": {},
   "source": [
    "Change the national register numbers that do not meet the correct format (for now, consider only good format : 2 digits.2 digits.2 digits-3 digits.2 digits) by None.\n",
    "Display the first rows again to verify that this was successful."
   ]
  },
  {
   "cell_type": "code",
   "execution_count": 160,
   "metadata": {},
   "outputs": [
    {
     "data": {
      "text/html": [
       "<div>\n",
       "<style scoped>\n",
       "    .dataframe tbody tr th:only-of-type {\n",
       "        vertical-align: middle;\n",
       "    }\n",
       "\n",
       "    .dataframe tbody tr th {\n",
       "        vertical-align: top;\n",
       "    }\n",
       "\n",
       "    .dataframe thead th {\n",
       "        text-align: right;\n",
       "    }\n",
       "</style>\n",
       "<table border=\"1\" class=\"dataframe\">\n",
       "  <thead>\n",
       "    <tr style=\"text-align: right;\">\n",
       "      <th></th>\n",
       "      <th>rijksregisternummer</th>\n",
       "      <th>naam</th>\n",
       "      <th>voornaam</th>\n",
       "    </tr>\n",
       "  </thead>\n",
       "  <tbody>\n",
       "    <tr>\n",
       "      <th>0</th>\n",
       "      <td>94.07.25-124.89</td>\n",
       "      <td>Lemmens</td>\n",
       "      <td>Elke</td>\n",
       "    </tr>\n",
       "    <tr>\n",
       "      <th>1</th>\n",
       "      <td>96.99.11-133.71</td>\n",
       "      <td>Janssens</td>\n",
       "      <td>Jef</td>\n",
       "    </tr>\n",
       "    <tr>\n",
       "      <th>2</th>\n",
       "      <td>None</td>\n",
       "      <td>Elen</td>\n",
       "      <td>Marieke</td>\n",
       "    </tr>\n",
       "    <tr>\n",
       "      <th>3</th>\n",
       "      <td>99.07.01-005.56</td>\n",
       "      <td>Hendriks</td>\n",
       "      <td>Hendrik</td>\n",
       "    </tr>\n",
       "    <tr>\n",
       "      <th>4</th>\n",
       "      <td>None</td>\n",
       "      <td>Lemmens</td>\n",
       "      <td>Elke</td>\n",
       "    </tr>\n",
       "  </tbody>\n",
       "</table>\n",
       "</div>"
      ],
      "text/plain": [
       "  rijksregisternummer      naam voornaam\n",
       "0     94.07.25-124.89   Lemmens     Elke\n",
       "1     96.99.11-133.71  Janssens      Jef\n",
       "2                None      Elen  Marieke\n",
       "3     99.07.01-005.56  Hendriks  Hendrik\n",
       "4                None   Lemmens     Elke"
      ]
     },
     "execution_count": 160,
     "metadata": {},
     "output_type": "execute_result"
    }
   ],
   "source": [
    "# Split the 'rijksregisternummer;naam;voornaam' column into separate columns\n",
    "data[['rijksregisternummer', 'naam', 'voornaam']] = data['rijksregisternummer;naam;voornaam'].str.split(';', expand=True)\n",
    "\n",
    "# Drop the original column\n",
    "data = data.drop(columns=['rijksregisternummer;naam;voornaam'])\n",
    "\n",
    "# Replace the rijksregisternummer that do not meet the correct format with None\n",
    "data['rijksregisternummer'] = data['rijksregisternummer'].apply(lambda x: None if not re.match(r'^\\d{2}\\.\\d{2}\\.\\d{2}-\\d{3}\\.\\d{2}$', x) else x)\n",
    "\n",
    "# Display the first rows to verify\n",
    "data.head()"
   ]
  },
  {
   "attachments": {},
   "cell_type": "markdown",
   "metadata": {},
   "source": [
    "Change the registry numbers whose first 8 characters do not match a date by None.\n",
    "Display the first rows again to verify that this was successful."
   ]
  },
  {
   "cell_type": "code",
   "execution_count": 161,
   "metadata": {},
   "outputs": [
    {
     "data": {
      "text/html": [
       "<div>\n",
       "<style scoped>\n",
       "    .dataframe tbody tr th:only-of-type {\n",
       "        vertical-align: middle;\n",
       "    }\n",
       "\n",
       "    .dataframe tbody tr th {\n",
       "        vertical-align: top;\n",
       "    }\n",
       "\n",
       "    .dataframe thead th {\n",
       "        text-align: right;\n",
       "    }\n",
       "</style>\n",
       "<table border=\"1\" class=\"dataframe\">\n",
       "  <thead>\n",
       "    <tr style=\"text-align: right;\">\n",
       "      <th></th>\n",
       "      <th>rijksregisternummer</th>\n",
       "      <th>naam</th>\n",
       "      <th>voornaam</th>\n",
       "    </tr>\n",
       "  </thead>\n",
       "  <tbody>\n",
       "    <tr>\n",
       "      <th>0</th>\n",
       "      <td>94.07.25-124.89</td>\n",
       "      <td>Lemmens</td>\n",
       "      <td>Elke</td>\n",
       "    </tr>\n",
       "    <tr>\n",
       "      <th>1</th>\n",
       "      <td>None</td>\n",
       "      <td>Janssens</td>\n",
       "      <td>Jef</td>\n",
       "    </tr>\n",
       "    <tr>\n",
       "      <th>2</th>\n",
       "      <td>None</td>\n",
       "      <td>Elen</td>\n",
       "      <td>Marieke</td>\n",
       "    </tr>\n",
       "    <tr>\n",
       "      <th>3</th>\n",
       "      <td>99.07.01-005.56</td>\n",
       "      <td>Hendriks</td>\n",
       "      <td>Hendrik</td>\n",
       "    </tr>\n",
       "    <tr>\n",
       "      <th>4</th>\n",
       "      <td>None</td>\n",
       "      <td>Lemmens</td>\n",
       "      <td>Elke</td>\n",
       "    </tr>\n",
       "  </tbody>\n",
       "</table>\n",
       "</div>"
      ],
      "text/plain": [
       "  rijksregisternummer      naam voornaam\n",
       "0     94.07.25-124.89   Lemmens     Elke\n",
       "1                None  Janssens      Jef\n",
       "2                None      Elen  Marieke\n",
       "3     99.07.01-005.56  Hendriks  Hendrik\n",
       "4                None   Lemmens     Elke"
      ]
     },
     "execution_count": 161,
     "metadata": {},
     "output_type": "execute_result"
    }
   ],
   "source": [
    "# Changing the registry numbers\n",
    "data['rijksregisternummer'] = data['rijksregisternummer'].apply(lambda x: None if x is None or not re.match(r'^\\d{2}\\.(0[1-9]|1[0-2])\\.(0[1-9]|[1-2][0-9]|3[0-1])-\\d{3}\\.\\d{2}$', x) else x)\n",
    "\n",
    "# Correct output\n",
    "data.head()"
   ]
  },
  {
   "attachments": {},
   "cell_type": "markdown",
   "metadata": {},
   "source": [
    "Delete the rows in the data frame in which the value None appears in one of the columns.\n",
    "Display the first rows again to verify that this was successful."
   ]
  },
  {
   "cell_type": "code",
   "execution_count": 162,
   "metadata": {},
   "outputs": [
    {
     "data": {
      "text/html": [
       "<div>\n",
       "<style scoped>\n",
       "    .dataframe tbody tr th:only-of-type {\n",
       "        vertical-align: middle;\n",
       "    }\n",
       "\n",
       "    .dataframe tbody tr th {\n",
       "        vertical-align: top;\n",
       "    }\n",
       "\n",
       "    .dataframe thead th {\n",
       "        text-align: right;\n",
       "    }\n",
       "</style>\n",
       "<table border=\"1\" class=\"dataframe\">\n",
       "  <thead>\n",
       "    <tr style=\"text-align: right;\">\n",
       "      <th></th>\n",
       "      <th>rijksregisternummer</th>\n",
       "      <th>naam</th>\n",
       "      <th>voornaam</th>\n",
       "    </tr>\n",
       "  </thead>\n",
       "  <tbody>\n",
       "    <tr>\n",
       "      <th>0</th>\n",
       "      <td>94.07.25-124.89</td>\n",
       "      <td>Lemmens</td>\n",
       "      <td>Elke</td>\n",
       "    </tr>\n",
       "    <tr>\n",
       "      <th>3</th>\n",
       "      <td>99.07.01-005.56</td>\n",
       "      <td>Hendriks</td>\n",
       "      <td>Hendrik</td>\n",
       "    </tr>\n",
       "    <tr>\n",
       "      <th>5</th>\n",
       "      <td>00.10.11-133.71</td>\n",
       "      <td>Janssens</td>\n",
       "      <td>Jef</td>\n",
       "    </tr>\n",
       "    <tr>\n",
       "      <th>7</th>\n",
       "      <td>89.07.01-005.56</td>\n",
       "      <td>Hendriks</td>\n",
       "      <td>Hendrik</td>\n",
       "    </tr>\n",
       "    <tr>\n",
       "      <th>8</th>\n",
       "      <td>99.07.25-124.89</td>\n",
       "      <td>Lemmens</td>\n",
       "      <td>Elke</td>\n",
       "    </tr>\n",
       "  </tbody>\n",
       "</table>\n",
       "</div>"
      ],
      "text/plain": [
       "  rijksregisternummer      naam voornaam\n",
       "0     94.07.25-124.89   Lemmens     Elke\n",
       "3     99.07.01-005.56  Hendriks  Hendrik\n",
       "5     00.10.11-133.71  Janssens      Jef\n",
       "7     89.07.01-005.56  Hendriks  Hendrik\n",
       "8     99.07.25-124.89   Lemmens     Elke"
      ]
     },
     "execution_count": 162,
     "metadata": {},
     "output_type": "execute_result"
    }
   ],
   "source": [
    "data = data.dropna()\n",
    "data.head()"
   ]
  },
  {
   "attachments": {},
   "cell_type": "markdown",
   "metadata": {},
   "source": [
    "Modify the dataframe by adding a column named “date of birth” representing the date of birth as a datetime object.\n",
    "Display the first rows again to verify that this was successful."
   ]
  },
  {
   "cell_type": "code",
   "execution_count": 163,
   "metadata": {},
   "outputs": [
    {
     "data": {
      "text/html": [
       "<div>\n",
       "<style scoped>\n",
       "    .dataframe tbody tr th:only-of-type {\n",
       "        vertical-align: middle;\n",
       "    }\n",
       "\n",
       "    .dataframe tbody tr th {\n",
       "        vertical-align: top;\n",
       "    }\n",
       "\n",
       "    .dataframe thead th {\n",
       "        text-align: right;\n",
       "    }\n",
       "</style>\n",
       "<table border=\"1\" class=\"dataframe\">\n",
       "  <thead>\n",
       "    <tr style=\"text-align: right;\">\n",
       "      <th></th>\n",
       "      <th>rijksregisternummer</th>\n",
       "      <th>naam</th>\n",
       "      <th>voornaam</th>\n",
       "      <th>date of birth</th>\n",
       "    </tr>\n",
       "  </thead>\n",
       "  <tbody>\n",
       "    <tr>\n",
       "      <th>0</th>\n",
       "      <td>94.07.25-124.89</td>\n",
       "      <td>Lemmens</td>\n",
       "      <td>Elke</td>\n",
       "      <td>1994-07-25</td>\n",
       "    </tr>\n",
       "    <tr>\n",
       "      <th>3</th>\n",
       "      <td>99.07.01-005.56</td>\n",
       "      <td>Hendriks</td>\n",
       "      <td>Hendrik</td>\n",
       "      <td>1999-07-01</td>\n",
       "    </tr>\n",
       "    <tr>\n",
       "      <th>5</th>\n",
       "      <td>00.10.11-133.71</td>\n",
       "      <td>Janssens</td>\n",
       "      <td>Jef</td>\n",
       "      <td>2000-10-11</td>\n",
       "    </tr>\n",
       "    <tr>\n",
       "      <th>7</th>\n",
       "      <td>89.07.01-005.56</td>\n",
       "      <td>Hendriks</td>\n",
       "      <td>Hendrik</td>\n",
       "      <td>1989-07-01</td>\n",
       "    </tr>\n",
       "    <tr>\n",
       "      <th>8</th>\n",
       "      <td>99.07.25-124.89</td>\n",
       "      <td>Lemmens</td>\n",
       "      <td>Elke</td>\n",
       "      <td>1999-07-25</td>\n",
       "    </tr>\n",
       "  </tbody>\n",
       "</table>\n",
       "</div>"
      ],
      "text/plain": [
       "  rijksregisternummer      naam voornaam date of birth\n",
       "0     94.07.25-124.89   Lemmens     Elke    1994-07-25\n",
       "3     99.07.01-005.56  Hendriks  Hendrik    1999-07-01\n",
       "5     00.10.11-133.71  Janssens      Jef    2000-10-11\n",
       "7     89.07.01-005.56  Hendriks  Hendrik    1989-07-01\n",
       "8     99.07.25-124.89   Lemmens     Elke    1999-07-25"
      ]
     },
     "execution_count": 163,
     "metadata": {},
     "output_type": "execute_result"
    }
   ],
   "source": [
    "# Function to convert the date part of the rijksregisternummer to a datetime object\n",
    "def convert_to_date(rijksregisternummer):\n",
    "    if rijksregisternummer is not None:\n",
    "        date_part = rijksregisternummer.split('-')[0]\n",
    "        year = int(date_part[:2])\n",
    "        month = int(date_part[3:5])\n",
    "        day = int(date_part[6:8])\n",
    "        # Handle years from 2000 and onwards\n",
    "        if year > 21:\n",
    "            year += 1900\n",
    "        else:\n",
    "            year += 2000\n",
    "        return datetime.date(year, month, day)\n",
    "    else:\n",
    "        return None\n",
    "\n",
    "# Add the \"date of birth\" column\n",
    "data['date of birth'] = data['rijksregisternummer'].apply(convert_to_date)\n",
    "\n",
    "# Display the first rows to verify\n",
    "data.head()"
   ]
  },
  {
   "attachments": {},
   "cell_type": "markdown",
   "metadata": {},
   "source": [
    "Modify the data frame by adding a column named “day” that represents the day in the week that the person was born; the days are the English names for the days.\n",
    "Display the first rows again to verify that this was successful."
   ]
  },
  {
   "cell_type": "code",
   "execution_count": 164,
   "metadata": {},
   "outputs": [
    {
     "data": {
      "text/html": [
       "<div>\n",
       "<style scoped>\n",
       "    .dataframe tbody tr th:only-of-type {\n",
       "        vertical-align: middle;\n",
       "    }\n",
       "\n",
       "    .dataframe tbody tr th {\n",
       "        vertical-align: top;\n",
       "    }\n",
       "\n",
       "    .dataframe thead th {\n",
       "        text-align: right;\n",
       "    }\n",
       "</style>\n",
       "<table border=\"1\" class=\"dataframe\">\n",
       "  <thead>\n",
       "    <tr style=\"text-align: right;\">\n",
       "      <th></th>\n",
       "      <th>rijksregisternummer</th>\n",
       "      <th>naam</th>\n",
       "      <th>voornaam</th>\n",
       "      <th>date of birth</th>\n",
       "      <th>day</th>\n",
       "    </tr>\n",
       "  </thead>\n",
       "  <tbody>\n",
       "    <tr>\n",
       "      <th>0</th>\n",
       "      <td>94.07.25-124.89</td>\n",
       "      <td>Lemmens</td>\n",
       "      <td>Elke</td>\n",
       "      <td>1994-07-25</td>\n",
       "      <td>Monday</td>\n",
       "    </tr>\n",
       "    <tr>\n",
       "      <th>3</th>\n",
       "      <td>99.07.01-005.56</td>\n",
       "      <td>Hendriks</td>\n",
       "      <td>Hendrik</td>\n",
       "      <td>1999-07-01</td>\n",
       "      <td>Thursday</td>\n",
       "    </tr>\n",
       "    <tr>\n",
       "      <th>5</th>\n",
       "      <td>00.10.11-133.71</td>\n",
       "      <td>Janssens</td>\n",
       "      <td>Jef</td>\n",
       "      <td>2000-10-11</td>\n",
       "      <td>Wednesday</td>\n",
       "    </tr>\n",
       "    <tr>\n",
       "      <th>7</th>\n",
       "      <td>89.07.01-005.56</td>\n",
       "      <td>Hendriks</td>\n",
       "      <td>Hendrik</td>\n",
       "      <td>1989-07-01</td>\n",
       "      <td>Saturday</td>\n",
       "    </tr>\n",
       "    <tr>\n",
       "      <th>8</th>\n",
       "      <td>99.07.25-124.89</td>\n",
       "      <td>Lemmens</td>\n",
       "      <td>Elke</td>\n",
       "      <td>1999-07-25</td>\n",
       "      <td>Sunday</td>\n",
       "    </tr>\n",
       "  </tbody>\n",
       "</table>\n",
       "</div>"
      ],
      "text/plain": [
       "  rijksregisternummer      naam voornaam date of birth        day\n",
       "0     94.07.25-124.89   Lemmens     Elke    1994-07-25     Monday\n",
       "3     99.07.01-005.56  Hendriks  Hendrik    1999-07-01   Thursday\n",
       "5     00.10.11-133.71  Janssens      Jef    2000-10-11  Wednesday\n",
       "7     89.07.01-005.56  Hendriks  Hendrik    1989-07-01   Saturday\n",
       "8     99.07.25-124.89   Lemmens     Elke    1999-07-25     Sunday"
      ]
     },
     "execution_count": 164,
     "metadata": {},
     "output_type": "execute_result"
    }
   ],
   "source": [
    "# Convert 'date of birth' to datetime\n",
    "data['date of birth'] = pd.to_datetime(data['date of birth'])\n",
    "\n",
    "# Add the \"day\" column\n",
    "data['day'] = data['date of birth'].dt.day_name()\n",
    "\n",
    "# Display the first rows to verify\n",
    "data.head()"
   ]
  },
  {
   "attachments": {},
   "cell_type": "markdown",
   "metadata": {},
   "source": [
    "Run next piece of code."
   ]
  },
  {
   "cell_type": "code",
   "execution_count": 165,
   "metadata": {},
   "outputs": [
    {
     "data": {
      "text/html": [
       "<div>\n",
       "<style scoped>\n",
       "    .dataframe tbody tr th:only-of-type {\n",
       "        vertical-align: middle;\n",
       "    }\n",
       "\n",
       "    .dataframe tbody tr th {\n",
       "        vertical-align: top;\n",
       "    }\n",
       "\n",
       "    .dataframe thead th {\n",
       "        text-align: right;\n",
       "    }\n",
       "</style>\n",
       "<table border=\"1\" class=\"dataframe\">\n",
       "  <thead>\n",
       "    <tr style=\"text-align: right;\">\n",
       "      <th></th>\n",
       "      <th>rijksregisternummer</th>\n",
       "      <th>naam</th>\n",
       "      <th>voornaam</th>\n",
       "      <th>date of birth</th>\n",
       "      <th>day</th>\n",
       "    </tr>\n",
       "  </thead>\n",
       "  <tbody>\n",
       "    <tr>\n",
       "      <th>0</th>\n",
       "      <td>94.07.25-124.89</td>\n",
       "      <td>Lemmens</td>\n",
       "      <td>Elke</td>\n",
       "      <td>1994-07-25</td>\n",
       "      <td>Monday</td>\n",
       "    </tr>\n",
       "    <tr>\n",
       "      <th>3</th>\n",
       "      <td>99.07.01-005.56</td>\n",
       "      <td>Hendriks</td>\n",
       "      <td>Hendrik</td>\n",
       "      <td>1999-07-01</td>\n",
       "      <td>Thursday</td>\n",
       "    </tr>\n",
       "    <tr>\n",
       "      <th>5</th>\n",
       "      <td>00.10.11-133.71</td>\n",
       "      <td>Janssens</td>\n",
       "      <td>Jef</td>\n",
       "      <td>2000-10-11</td>\n",
       "      <td>Wednesday</td>\n",
       "    </tr>\n",
       "    <tr>\n",
       "      <th>7</th>\n",
       "      <td>89.07.01-005.56</td>\n",
       "      <td>Hendriks</td>\n",
       "      <td>Hendrik</td>\n",
       "      <td>1989-07-01</td>\n",
       "      <td>Saturday</td>\n",
       "    </tr>\n",
       "    <tr>\n",
       "      <th>8</th>\n",
       "      <td>99.07.25-124.89</td>\n",
       "      <td>Lemmens</td>\n",
       "      <td>Elke</td>\n",
       "      <td>1999-07-25</td>\n",
       "      <td>Sunday</td>\n",
       "    </tr>\n",
       "  </tbody>\n",
       "</table>\n",
       "</div>"
      ],
      "text/plain": [
       "  rijksregisternummer      naam voornaam date of birth        day\n",
       "0     94.07.25-124.89   Lemmens     Elke    1994-07-25     Monday\n",
       "3     99.07.01-005.56  Hendriks  Hendrik    1999-07-01   Thursday\n",
       "5     00.10.11-133.71  Janssens      Jef    2000-10-11  Wednesday\n",
       "7     89.07.01-005.56  Hendriks  Hendrik    1989-07-01   Saturday\n",
       "8     99.07.25-124.89   Lemmens     Elke    1999-07-25     Sunday"
      ]
     },
     "execution_count": 165,
     "metadata": {},
     "output_type": "execute_result"
    }
   ],
   "source": [
    "data[\"day\"] = pd.Categorical(data[\"day\"],[\"Monday\",\"Tuesday\", \"Wednesday\", \"Thursday\",\"Friday\",\"Saturday\",\"Sunday\"])\n",
    "data.head()"
   ]
  },
  {
   "attachments": {},
   "cell_type": "markdown",
   "metadata": {},
   "source": [
    "Show a visual overview in the form of a histogram of the number of births by day of the week. "
   ]
  },
  {
   "cell_type": "code",
   "execution_count": 169,
   "metadata": {},
   "outputs": [
    {
     "data": {
      "image/png": "[encoded data removed]",
      "text/plain": [
       "<Figure size 640x480 with 1 Axes>"
      ]
     },
     "metadata": {},
     "output_type": "display_data"
    }
   ],
   "source": [
    "import numpy as np\n",
    "\n",
    "births_by_day = data['day'].value_counts()\n",
    "\n",
    "births_by_day.plot(kind='bar')\n",
    "\n",
    "plt.title('Number of Births by Day of the Week')\n",
    "plt.xlabel('Day of the week')\n",
    "plt.ylabel('Number of births')\n",
    "plt.show()"
   ]
  }
 ],
 "metadata": {
  "kernelspec": {
   "display_name": "base",
   "language": "python",
   "name": "python3"
  },
  "language_info": {
   "name": "python",
   "version": "3.9.13"
  },
  "orig_nbformat": 4
 },
 "nbformat": 4,
 "nbformat_minor": 2
}
