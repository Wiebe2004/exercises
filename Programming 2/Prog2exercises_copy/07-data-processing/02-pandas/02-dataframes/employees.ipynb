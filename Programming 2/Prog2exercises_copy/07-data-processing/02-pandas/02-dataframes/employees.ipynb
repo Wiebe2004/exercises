{
 "cells": [
  {
   "cell_type": "code",
   "execution_count": 29,
   "metadata": {},
   "outputs": [
    {
     "name": "stdout",
     "output_type": "stream",
     "text": [
      "Data Exploration\n",
      "   EmployeeID     Name Department  Salary\n",
      "0         101    Alice         HR   60000\n",
      "1         102      Bob         IT   75000\n",
      "2         103  Charlie    Finance   80000\n",
      "count        5.00000\n",
      "mean     70000.00000\n",
      "std       7905.69415\n",
      "min      60000.00000\n",
      "25%      65000.00000\n",
      "50%      70000.00000\n",
      "75%      75000.00000\n",
      "max      80000.00000\n",
      "Name: Salary, dtype: float64\n",
      "Department\n",
      "Finance      1\n",
      "HR           1\n",
      "IT           1\n",
      "Marketing    1\n",
      "Sales        1\n",
      "dtype: int64\n"
     ]
    }
   ],
   "source": [
    "import pandas as pd\n",
    "\n",
    "employees = {\n",
    "    'EmployeeID': [101, 102, 103, 104, 105],\n",
    "    'Name': ['Alice', 'Bob', 'Charlie', 'David', 'Emma'],\n",
    "    'Department': ['HR', 'IT', 'Finance', 'Marketing', 'Sales'],\n",
    "    'Salary': [60000, 75000, 80000, 70000, 65000]\n",
    "}\n",
    "\n",
    "print('Data Exploration')\n",
    "employees_df = pd.DataFrame(employees)\n",
    "print(employees_df.head(3))\n",
    "print(employees_df['Salary'].describe())\n",
    "print(employees_df.groupby('Department').size())\n",
    "# different way of getting the count of employees per department:\n",
    "# print(employees_df['Department'].value_counts())"
   ]
  },
  {
   "cell_type": "code",
   "execution_count": 49,
   "metadata": {},
   "outputs": [
    {
     "name": "stdout",
     "output_type": "stream",
     "text": [
      "Data Analysis\n",
      "70000.0\n",
      "EmployeeID             103\n",
      "Name               Charlie\n",
      "Department         Finance\n",
      "Salary               80000\n",
      "Salary Increase    88000.0\n",
      "Name: 2, dtype: object\n",
      "HR\n",
      "   EmployeeID     Name Department  Salary  Salary Increase\n",
      "0         101    Alice         HR   60000          66000.0\n",
      "1         102      Bob         IT   75000          82500.0\n",
      "2         103  Charlie    Finance   80000          88000.0\n",
      "3         104    David  Marketing   70000          77000.0\n",
      "4         105     Emma      Sales   65000          71500.0\n"
     ]
    }
   ],
   "source": [
    "print('Data Analysis')\n",
    "print(employees_df['Salary'].sum() / len(employees_df['Salary']))\n",
    "print(employees_df.loc[employees_df['Salary'].idxmax()]) #makes the rows & columns more readable + returns specific row of a maximum amount.\n",
    "#different way of getting the highest salary: print(employees_df['Salary'].max())\n",
    "print(employees_df.groupby('Department')['Salary'].mean().idxmin()) #returns the specific row of a minimum amount.µ\n",
    "employees_df['Salary Increase'] = employees_df['Salary'] * 1.1\n",
    "print(employees_df)"
   ]
  }
 ],
 "metadata": {
  "kernelspec": {
   "display_name": "Python 3",
   "language": "python",
   "name": "python3"
  },
  "language_info": {
   "codemirror_mode": {
    "name": "ipython",
    "version": 3
   },
   "file_extension": ".py",
   "mimetype": "text/x-python",
   "name": "python",
   "nbconvert_exporter": "python",
   "pygments_lexer": "ipython3",
   "version": "3.11.5"
  }
 },
 "nbformat": 4,
 "nbformat_minor": 2
}
