{
 "cells": [
  {
   "cell_type": "code",
   "execution_count": 6,
   "metadata": {},
   "outputs": [
    {
     "name": "stdout",
     "output_type": "stream",
     "text": [
      "0      John\n",
      "1     Teemo\n",
      "2    Gerard\n",
      "dtype: object\n",
      "Honda Civic     2000\n",
      "Toyota Supra    1999\n",
      "Ford Mustang    2006\n",
      "dtype: int64\n",
      "<class 'pandas.core.frame.DataFrame'>\n",
      "RangeIndex: 3 entries, 0 to 2\n",
      "Data columns (total 3 columns):\n",
      " #   Column  Non-Null Count  Dtype \n",
      "---  ------  --------------  ----- \n",
      " 0   Brand   3 non-null      object\n",
      " 1   Model   3 non-null      object\n",
      " 2   Year    3 non-null      int64 \n",
      "dtypes: int64(1), object(2)\n",
      "memory usage: 204.0+ bytes\n",
      "              Year\n",
      "count     3.000000\n",
      "mean   2001.333333\n",
      "std       4.163332\n",
      "min    1998.000000\n",
      "25%    1999.000000\n",
      "50%    2000.000000\n",
      "75%    2003.000000\n",
      "max    2006.000000\n"
     ]
    },
    {
     "data": {
      "text/html": [
       "<div>\n",
       "<style scoped>\n",
       "    .dataframe tbody tr th:only-of-type {\n",
       "        vertical-align: middle;\n",
       "    }\n",
       "\n",
       "    .dataframe tbody tr th {\n",
       "        vertical-align: top;\n",
       "    }\n",
       "\n",
       "    .dataframe thead th {\n",
       "        text-align: right;\n",
       "    }\n",
       "</style>\n",
       "<table border=\"1\" class=\"dataframe\">\n",
       "  <thead>\n",
       "    <tr style=\"text-align: right;\">\n",
       "      <th></th>\n",
       "      <th>Brand</th>\n",
       "      <th>Model</th>\n",
       "      <th>Year</th>\n",
       "    </tr>\n",
       "  </thead>\n",
       "  <tbody>\n",
       "    <tr>\n",
       "      <th>1</th>\n",
       "      <td>Honda</td>\n",
       "      <td>Civic</td>\n",
       "      <td>2000</td>\n",
       "    </tr>\n",
       "    <tr>\n",
       "      <th>2</th>\n",
       "      <td>Ford</td>\n",
       "      <td>Mustang</td>\n",
       "      <td>2006</td>\n",
       "    </tr>\n",
       "  </tbody>\n",
       "</table>\n",
       "</div>"
      ],
      "text/plain": [
       "   Brand    Model  Year\n",
       "1  Honda    Civic  2000\n",
       "2   Ford  Mustang  2006"
      ]
     },
     "execution_count": 6,
     "metadata": {},
     "output_type": "execute_result"
    }
   ],
   "source": [
    "import pandas as pd\n",
    "\n",
    "names = [\"John\", \"Teemo\", \"Gerard\"]\n",
    "\n",
    "cars = {\"Honda Civic\" : 2000, \"Toyota Supra\" : 1999, \"Ford Mustang\" : 2006}\n",
    "\n",
    "cars_df = {\"Brand\" : [\"Toyota\", \"Honda\", \"Ford\"], \"Model\" : [\"Supra\", \"Civic\", \"Mustang\"], \"Year\" : [1998, 2000, 2006]}\n",
    "\n",
    "series_names = pd.Series(names)\n",
    "series_cars = pd.Series(cars)\n",
    "print(series_names)\n",
    "print(series_cars)\n",
    "\n",
    "df_cars = pd.DataFrame(cars_df)\n",
    "df_cars.info()\n",
    "print(df_cars.describe())\n",
    "filtered_df = df_cars[df_cars[\"Year\"] > 1999]\n",
    "filtered_df"
   ]
  }
 ],
 "metadata": {
  "kernelspec": {
   "display_name": "Python 3",
   "language": "python",
   "name": "python3"
  },
  "language_info": {
   "codemirror_mode": {
    "name": "ipython",
    "version": 3
   },
   "file_extension": ".py",
   "mimetype": "text/x-python",
   "name": "python",
   "nbconvert_exporter": "python",
   "pygments_lexer": "ipython3",
   "version": "3.12.0"
  }
 },
 "nbformat": 4,
 "nbformat_minor": 2
}
